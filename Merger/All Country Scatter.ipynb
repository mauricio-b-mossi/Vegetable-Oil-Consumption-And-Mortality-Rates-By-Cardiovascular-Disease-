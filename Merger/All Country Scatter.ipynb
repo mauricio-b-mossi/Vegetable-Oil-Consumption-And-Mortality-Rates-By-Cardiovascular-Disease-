{
 "cells": [
  {
   "cell_type": "code",
   "execution_count": 1,
   "id": "7e08a73e",
   "metadata": {},
   "outputs": [],
   "source": [
    "import pandas as pd\n",
    "import matplotlib.pyplot as plt\n",
    "import dataframe_image as dfi\n",
    "import numpy as np"
   ]
  },
  {
   "cell_type": "code",
   "execution_count": 2,
   "id": "e12f8c1f",
   "metadata": {},
   "outputs": [],
   "source": [
    "from sklearn.metrics import r2_score"
   ]
  },
  {
   "cell_type": "markdown",
   "id": "260833c2",
   "metadata": {},
   "source": [
    "### Scatter Plot to see Trand between VO Consumption and Heart Disease MR\n",
    "<p>Pulling two tables to merge and format to plot:</p>\n",
    "<li>AllCountriesVegetableOilConsumptionPerCapita2007_2011</li>\n",
    "<li>AllCountriesHeartDiseaseMortality2007_2011</li>"
   ]
  },
  {
   "cell_type": "code",
   "execution_count": 3,
   "id": "1878680a",
   "metadata": {},
   "outputs": [],
   "source": [
    "acvo = pd.read_csv('AllCountriesVegetableOilConsumptionPerCapita2007_2011.csv')"
   ]
  },
  {
   "cell_type": "code",
   "execution_count": 4,
   "id": "ddf50c9f",
   "metadata": {},
   "outputs": [],
   "source": [
    "acmr = pd.read_csv('AllCountriesHeartDiseaseMortality2007_2011.csv')"
   ]
  },
  {
   "cell_type": "code",
   "execution_count": 5,
   "id": "03ea7499",
   "metadata": {},
   "outputs": [],
   "source": [
    "euro = pd.read_csv('EuroWVOMR.csv')"
   ]
  },
  {
   "cell_type": "code",
   "execution_count": 6,
   "id": "4a388d19",
   "metadata": {},
   "outputs": [
    {
     "data": {
      "text/html": [
       "<div>\n",
       "<style scoped>\n",
       "    .dataframe tbody tr th:only-of-type {\n",
       "        vertical-align: middle;\n",
       "    }\n",
       "\n",
       "    .dataframe tbody tr th {\n",
       "        vertical-align: top;\n",
       "    }\n",
       "\n",
       "    .dataframe thead th {\n",
       "        text-align: right;\n",
       "    }\n",
       "</style>\n",
       "<table border=\"1\" class=\"dataframe\">\n",
       "  <thead>\n",
       "    <tr style=\"text-align: right;\">\n",
       "      <th></th>\n",
       "      <th>Unnamed: 0</th>\n",
       "      <th>Entity</th>\n",
       "      <th>Year</th>\n",
       "      <th>Vegetable Oil</th>\n",
       "      <th>Deaths</th>\n",
       "    </tr>\n",
       "  </thead>\n",
       "  <tbody>\n",
       "    <tr>\n",
       "      <th>0</th>\n",
       "      <td>0</td>\n",
       "      <td>Albania</td>\n",
       "      <td>2007</td>\n",
       "      <td>172.602740</td>\n",
       "      <td>339.928986</td>\n",
       "    </tr>\n",
       "    <tr>\n",
       "      <th>1</th>\n",
       "      <td>1</td>\n",
       "      <td>Armenia</td>\n",
       "      <td>2007</td>\n",
       "      <td>182.465753</td>\n",
       "      <td>410.791211</td>\n",
       "    </tr>\n",
       "    <tr>\n",
       "      <th>2</th>\n",
       "      <td>2</td>\n",
       "      <td>Austria</td>\n",
       "      <td>2007</td>\n",
       "      <td>542.465753</td>\n",
       "      <td>182.027111</td>\n",
       "    </tr>\n",
       "    <tr>\n",
       "      <th>3</th>\n",
       "      <td>3</td>\n",
       "      <td>Azerbaijan</td>\n",
       "      <td>2007</td>\n",
       "      <td>71.506849</td>\n",
       "      <td>632.724097</td>\n",
       "    </tr>\n",
       "    <tr>\n",
       "      <th>4</th>\n",
       "      <td>4</td>\n",
       "      <td>Belarus</td>\n",
       "      <td>2007</td>\n",
       "      <td>387.123288</td>\n",
       "      <td>533.504417</td>\n",
       "    </tr>\n",
       "    <tr>\n",
       "      <th>...</th>\n",
       "      <td>...</td>\n",
       "      <td>...</td>\n",
       "      <td>...</td>\n",
       "      <td>...</td>\n",
       "      <td>...</td>\n",
       "    </tr>\n",
       "    <tr>\n",
       "      <th>200</th>\n",
       "      <td>200</td>\n",
       "      <td>Sweden</td>\n",
       "      <td>2011</td>\n",
       "      <td>416.712329</td>\n",
       "      <td>153.603971</td>\n",
       "    </tr>\n",
       "    <tr>\n",
       "      <th>201</th>\n",
       "      <td>201</td>\n",
       "      <td>Switzerland</td>\n",
       "      <td>2011</td>\n",
       "      <td>495.616438</td>\n",
       "      <td>114.813790</td>\n",
       "    </tr>\n",
       "    <tr>\n",
       "      <th>202</th>\n",
       "      <td>202</td>\n",
       "      <td>Turkey</td>\n",
       "      <td>2011</td>\n",
       "      <td>613.972603</td>\n",
       "      <td>184.849933</td>\n",
       "    </tr>\n",
       "    <tr>\n",
       "      <th>203</th>\n",
       "      <td>203</td>\n",
       "      <td>Ukraine</td>\n",
       "      <td>2011</td>\n",
       "      <td>315.616438</td>\n",
       "      <td>546.286540</td>\n",
       "    </tr>\n",
       "    <tr>\n",
       "      <th>204</th>\n",
       "      <td>204</td>\n",
       "      <td>United Kingdom</td>\n",
       "      <td>2011</td>\n",
       "      <td>431.506849</td>\n",
       "      <td>129.259572</td>\n",
       "    </tr>\n",
       "  </tbody>\n",
       "</table>\n",
       "<p>205 rows × 5 columns</p>\n",
       "</div>"
      ],
      "text/plain": [
       "     Unnamed: 0          Entity  Year  Vegetable Oil      Deaths\n",
       "0             0         Albania  2007     172.602740  339.928986\n",
       "1             1         Armenia  2007     182.465753  410.791211\n",
       "2             2         Austria  2007     542.465753  182.027111\n",
       "3             3      Azerbaijan  2007      71.506849  632.724097\n",
       "4             4         Belarus  2007     387.123288  533.504417\n",
       "..          ...             ...   ...            ...         ...\n",
       "200         200          Sweden  2011     416.712329  153.603971\n",
       "201         201     Switzerland  2011     495.616438  114.813790\n",
       "202         202          Turkey  2011     613.972603  184.849933\n",
       "203         203         Ukraine  2011     315.616438  546.286540\n",
       "204         204  United Kingdom  2011     431.506849  129.259572\n",
       "\n",
       "[205 rows x 5 columns]"
      ]
     },
     "execution_count": 6,
     "metadata": {},
     "output_type": "execute_result"
    }
   ],
   "source": [
    "euro"
   ]
  },
  {
   "cell_type": "markdown",
   "id": "b134601c",
   "metadata": {},
   "source": [
    "### Analyzing Data to convert to usefull format\n",
    "<p>Our goal is to merge the tables. Therefore, I have to drop countries not contain in either column, and several other data manipulations.</p>\n",
    "\n",
    "###### What I need?\n",
    "\n",
    "<li>A index based on the Years 2007 to 2011</li>\n",
    "<li>A top row based on the Countries</li>\n",
    "<li>Values of MR and VO consumption</li>"
   ]
  },
  {
   "cell_type": "markdown",
   "id": "76cb23e7",
   "metadata": {},
   "source": [
    "###### All Countries VO consumption"
   ]
  },
  {
   "cell_type": "code",
   "execution_count": 7,
   "id": "01f08eef",
   "metadata": {},
   "outputs": [
    {
     "data": {
      "text/plain": [
       "(160, 8)"
      ]
     },
     "execution_count": 7,
     "metadata": {},
     "output_type": "execute_result"
    }
   ],
   "source": [
    "acvo.shape"
   ]
  },
  {
   "cell_type": "code",
   "execution_count": 8,
   "id": "e560e9c1",
   "metadata": {},
   "outputs": [
    {
     "data": {
      "text/html": [
       "<div>\n",
       "<style scoped>\n",
       "    .dataframe tbody tr th:only-of-type {\n",
       "        vertical-align: middle;\n",
       "    }\n",
       "\n",
       "    .dataframe tbody tr th {\n",
       "        vertical-align: top;\n",
       "    }\n",
       "\n",
       "    .dataframe thead th {\n",
       "        text-align: right;\n",
       "    }\n",
       "</style>\n",
       "<table border=\"1\" class=\"dataframe\">\n",
       "  <thead>\n",
       "    <tr style=\"text-align: right;\">\n",
       "      <th></th>\n",
       "      <th>Unnamed: 0</th>\n",
       "      <th>Countries</th>\n",
       "      <th>Units</th>\n",
       "      <th>2007</th>\n",
       "      <th>2008</th>\n",
       "      <th>2009</th>\n",
       "      <th>2010</th>\n",
       "      <th>2011</th>\n",
       "    </tr>\n",
       "  </thead>\n",
       "  <tbody>\n",
       "    <tr>\n",
       "      <th>0</th>\n",
       "      <td>1</td>\n",
       "      <td>Afghanistan</td>\n",
       "      <td>kg</td>\n",
       "      <td>3.48</td>\n",
       "      <td>2.39</td>\n",
       "      <td>2.9</td>\n",
       "      <td>3.4</td>\n",
       "      <td>3.2</td>\n",
       "    </tr>\n",
       "    <tr>\n",
       "      <th>1</th>\n",
       "      <td>2</td>\n",
       "      <td>Albania</td>\n",
       "      <td>kg</td>\n",
       "      <td>7.00</td>\n",
       "      <td>6.30</td>\n",
       "      <td>7.0</td>\n",
       "      <td>5.7</td>\n",
       "      <td>5.4</td>\n",
       "    </tr>\n",
       "    <tr>\n",
       "      <th>2</th>\n",
       "      <td>3</td>\n",
       "      <td>Algeria</td>\n",
       "      <td>kg</td>\n",
       "      <td>13.60</td>\n",
       "      <td>13.70</td>\n",
       "      <td>12.3</td>\n",
       "      <td>13.3</td>\n",
       "      <td>14.9</td>\n",
       "    </tr>\n",
       "    <tr>\n",
       "      <th>3</th>\n",
       "      <td>4</td>\n",
       "      <td>Angola</td>\n",
       "      <td>kg</td>\n",
       "      <td>9.05</td>\n",
       "      <td>8.63</td>\n",
       "      <td>8.9</td>\n",
       "      <td>8.8</td>\n",
       "      <td>8.8</td>\n",
       "    </tr>\n",
       "    <tr>\n",
       "      <th>4</th>\n",
       "      <td>5</td>\n",
       "      <td>Argentina</td>\n",
       "      <td>kg</td>\n",
       "      <td>14.60</td>\n",
       "      <td>14.50</td>\n",
       "      <td>14.4</td>\n",
       "      <td>14.5</td>\n",
       "      <td>14.8</td>\n",
       "    </tr>\n",
       "  </tbody>\n",
       "</table>\n",
       "</div>"
      ],
      "text/plain": [
       "   Unnamed: 0    Countries Units   2007   2008  2009  2010  2011\n",
       "0           1  Afghanistan    kg   3.48   2.39   2.9   3.4   3.2\n",
       "1           2      Albania    kg   7.00   6.30   7.0   5.7   5.4\n",
       "2           3      Algeria    kg  13.60  13.70  12.3  13.3  14.9\n",
       "3           4       Angola    kg   9.05   8.63   8.9   8.8   8.8\n",
       "4           5    Argentina    kg  14.60  14.50  14.4  14.5  14.8"
      ]
     },
     "execution_count": 8,
     "metadata": {},
     "output_type": "execute_result"
    }
   ],
   "source": [
    "acvo.head()"
   ]
  },
  {
   "cell_type": "code",
   "execution_count": 9,
   "id": "3dee3016",
   "metadata": {},
   "outputs": [],
   "source": [
    "acvo.drop(columns=['Unnamed: 0', 'Units'], inplace=True)"
   ]
  },
  {
   "cell_type": "code",
   "execution_count": 10,
   "id": "f6fb1703",
   "metadata": {},
   "outputs": [
    {
     "data": {
      "text/html": [
       "<div>\n",
       "<style scoped>\n",
       "    .dataframe tbody tr th:only-of-type {\n",
       "        vertical-align: middle;\n",
       "    }\n",
       "\n",
       "    .dataframe tbody tr th {\n",
       "        vertical-align: top;\n",
       "    }\n",
       "\n",
       "    .dataframe thead th {\n",
       "        text-align: right;\n",
       "    }\n",
       "</style>\n",
       "<table border=\"1\" class=\"dataframe\">\n",
       "  <thead>\n",
       "    <tr style=\"text-align: right;\">\n",
       "      <th></th>\n",
       "      <th>Countries</th>\n",
       "      <th>2007</th>\n",
       "      <th>2008</th>\n",
       "      <th>2009</th>\n",
       "      <th>2010</th>\n",
       "      <th>2011</th>\n",
       "    </tr>\n",
       "  </thead>\n",
       "  <tbody>\n",
       "    <tr>\n",
       "      <th>133</th>\n",
       "      <td>Sudan</td>\n",
       "      <td>5.62</td>\n",
       "      <td>5.48</td>\n",
       "      <td>6.1</td>\n",
       "      <td>5.5</td>\n",
       "      <td>...</td>\n",
       "    </tr>\n",
       "  </tbody>\n",
       "</table>\n",
       "</div>"
      ],
      "text/plain": [
       "    Countries  2007  2008  2009  2010 2011\n",
       "133     Sudan  5.62  5.48   6.1   5.5  ..."
      ]
     },
     "execution_count": 10,
     "metadata": {},
     "output_type": "execute_result"
    }
   ],
   "source": [
    "acvo[acvo.loc[:,'2011'] == '...']"
   ]
  },
  {
   "cell_type": "code",
   "execution_count": 11,
   "id": "adc17ede",
   "metadata": {},
   "outputs": [],
   "source": [
    "acvo.drop(133, axis=0, inplace=True)"
   ]
  },
  {
   "cell_type": "code",
   "execution_count": 12,
   "id": "7e2aba76",
   "metadata": {},
   "outputs": [
    {
     "data": {
      "text/html": [
       "<div>\n",
       "<style scoped>\n",
       "    .dataframe tbody tr th:only-of-type {\n",
       "        vertical-align: middle;\n",
       "    }\n",
       "\n",
       "    .dataframe tbody tr th {\n",
       "        vertical-align: top;\n",
       "    }\n",
       "\n",
       "    .dataframe thead th {\n",
       "        text-align: right;\n",
       "    }\n",
       "</style>\n",
       "<table border=\"1\" class=\"dataframe\">\n",
       "  <thead>\n",
       "    <tr style=\"text-align: right;\">\n",
       "      <th></th>\n",
       "      <th>Countries</th>\n",
       "      <th>2007</th>\n",
       "      <th>2008</th>\n",
       "      <th>2009</th>\n",
       "      <th>2010</th>\n",
       "      <th>2011</th>\n",
       "    </tr>\n",
       "  </thead>\n",
       "  <tbody>\n",
       "  </tbody>\n",
       "</table>\n",
       "</div>"
      ],
      "text/plain": [
       "Empty DataFrame\n",
       "Columns: [Countries, 2007, 2008, 2009, 2010, 2011]\n",
       "Index: []"
      ]
     },
     "execution_count": 12,
     "metadata": {},
     "output_type": "execute_result"
    }
   ],
   "source": [
    "acvo[acvo.loc[:,'2011'] == '...']"
   ]
  },
  {
   "cell_type": "code",
   "execution_count": 13,
   "id": "321aab51",
   "metadata": {},
   "outputs": [],
   "source": [
    "acvo['2011'] = acvo['2011'].astype('float64')"
   ]
  },
  {
   "cell_type": "code",
   "execution_count": 14,
   "id": "c426ed4c",
   "metadata": {},
   "outputs": [
    {
     "data": {
      "text/plain": [
       "Countries     object\n",
       "2007         float64\n",
       "2008         float64\n",
       "2009         float64\n",
       "2010         float64\n",
       "2011         float64\n",
       "dtype: object"
      ]
     },
     "execution_count": 14,
     "metadata": {},
     "output_type": "execute_result"
    }
   ],
   "source": [
    "acvo.dtypes"
   ]
  },
  {
   "cell_type": "code",
   "execution_count": 15,
   "id": "a7df95b1",
   "metadata": {},
   "outputs": [],
   "source": [
    "acvo.rename(columns={'Countries' : 'Entity'}, inplace=True)"
   ]
  },
  {
   "cell_type": "code",
   "execution_count": 16,
   "id": "b43ae1d1",
   "metadata": {},
   "outputs": [
    {
     "data": {
      "text/html": [
       "<div>\n",
       "<style scoped>\n",
       "    .dataframe tbody tr th:only-of-type {\n",
       "        vertical-align: middle;\n",
       "    }\n",
       "\n",
       "    .dataframe tbody tr th {\n",
       "        vertical-align: top;\n",
       "    }\n",
       "\n",
       "    .dataframe thead th {\n",
       "        text-align: right;\n",
       "    }\n",
       "</style>\n",
       "<table border=\"1\" class=\"dataframe\">\n",
       "  <thead>\n",
       "    <tr style=\"text-align: right;\">\n",
       "      <th></th>\n",
       "      <th>Entity</th>\n",
       "      <th>2007</th>\n",
       "      <th>2008</th>\n",
       "      <th>2009</th>\n",
       "      <th>2010</th>\n",
       "      <th>2011</th>\n",
       "    </tr>\n",
       "  </thead>\n",
       "  <tbody>\n",
       "    <tr>\n",
       "      <th>0</th>\n",
       "      <td>Afghanistan</td>\n",
       "      <td>3.48</td>\n",
       "      <td>2.39</td>\n",
       "      <td>2.9</td>\n",
       "      <td>3.4</td>\n",
       "      <td>3.2</td>\n",
       "    </tr>\n",
       "    <tr>\n",
       "      <th>1</th>\n",
       "      <td>Albania</td>\n",
       "      <td>7.00</td>\n",
       "      <td>6.30</td>\n",
       "      <td>7.0</td>\n",
       "      <td>5.7</td>\n",
       "      <td>5.4</td>\n",
       "    </tr>\n",
       "    <tr>\n",
       "      <th>2</th>\n",
       "      <td>Algeria</td>\n",
       "      <td>13.60</td>\n",
       "      <td>13.70</td>\n",
       "      <td>12.3</td>\n",
       "      <td>13.3</td>\n",
       "      <td>14.9</td>\n",
       "    </tr>\n",
       "    <tr>\n",
       "      <th>3</th>\n",
       "      <td>Angola</td>\n",
       "      <td>9.05</td>\n",
       "      <td>8.63</td>\n",
       "      <td>8.9</td>\n",
       "      <td>8.8</td>\n",
       "      <td>8.8</td>\n",
       "    </tr>\n",
       "    <tr>\n",
       "      <th>4</th>\n",
       "      <td>Argentina</td>\n",
       "      <td>14.60</td>\n",
       "      <td>14.50</td>\n",
       "      <td>14.4</td>\n",
       "      <td>14.5</td>\n",
       "      <td>14.8</td>\n",
       "    </tr>\n",
       "  </tbody>\n",
       "</table>\n",
       "</div>"
      ],
      "text/plain": [
       "        Entity   2007   2008  2009  2010  2011\n",
       "0  Afghanistan   3.48   2.39   2.9   3.4   3.2\n",
       "1      Albania   7.00   6.30   7.0   5.7   5.4\n",
       "2      Algeria  13.60  13.70  12.3  13.3  14.9\n",
       "3       Angola   9.05   8.63   8.9   8.8   8.8\n",
       "4    Argentina  14.60  14.50  14.4  14.5  14.8"
      ]
     },
     "execution_count": 16,
     "metadata": {},
     "output_type": "execute_result"
    }
   ],
   "source": [
    "acvo.head()"
   ]
  },
  {
   "cell_type": "code",
   "execution_count": 17,
   "id": "eef8ddf1",
   "metadata": {},
   "outputs": [
    {
     "data": {
      "text/plain": [
       "Index(['Entity', '2007', '2008', '2009', '2010', '2011'], dtype='object')"
      ]
     },
     "execution_count": 17,
     "metadata": {},
     "output_type": "execute_result"
    }
   ],
   "source": [
    "acvo.columns"
   ]
  },
  {
   "cell_type": "code",
   "execution_count": 18,
   "id": "ae286bc3",
   "metadata": {},
   "outputs": [],
   "source": [
    "acvo = pd.melt(acvo, id_vars=[\"Entity\"])"
   ]
  },
  {
   "cell_type": "code",
   "execution_count": 19,
   "id": "c53010c9",
   "metadata": {},
   "outputs": [
    {
     "data": {
      "text/html": [
       "<div>\n",
       "<style scoped>\n",
       "    .dataframe tbody tr th:only-of-type {\n",
       "        vertical-align: middle;\n",
       "    }\n",
       "\n",
       "    .dataframe tbody tr th {\n",
       "        vertical-align: top;\n",
       "    }\n",
       "\n",
       "    .dataframe thead th {\n",
       "        text-align: right;\n",
       "    }\n",
       "</style>\n",
       "<table border=\"1\" class=\"dataframe\">\n",
       "  <thead>\n",
       "    <tr style=\"text-align: right;\">\n",
       "      <th></th>\n",
       "      <th>Entity</th>\n",
       "      <th>variable</th>\n",
       "      <th>value</th>\n",
       "    </tr>\n",
       "  </thead>\n",
       "  <tbody>\n",
       "    <tr>\n",
       "      <th>0</th>\n",
       "      <td>Afghanistan</td>\n",
       "      <td>2007</td>\n",
       "      <td>3.48</td>\n",
       "    </tr>\n",
       "    <tr>\n",
       "      <th>1</th>\n",
       "      <td>Albania</td>\n",
       "      <td>2007</td>\n",
       "      <td>7.00</td>\n",
       "    </tr>\n",
       "    <tr>\n",
       "      <th>2</th>\n",
       "      <td>Algeria</td>\n",
       "      <td>2007</td>\n",
       "      <td>13.60</td>\n",
       "    </tr>\n",
       "    <tr>\n",
       "      <th>3</th>\n",
       "      <td>Angola</td>\n",
       "      <td>2007</td>\n",
       "      <td>9.05</td>\n",
       "    </tr>\n",
       "    <tr>\n",
       "      <th>4</th>\n",
       "      <td>Argentina</td>\n",
       "      <td>2007</td>\n",
       "      <td>14.60</td>\n",
       "    </tr>\n",
       "  </tbody>\n",
       "</table>\n",
       "</div>"
      ],
      "text/plain": [
       "        Entity variable  value\n",
       "0  Afghanistan     2007   3.48\n",
       "1      Albania     2007   7.00\n",
       "2      Algeria     2007  13.60\n",
       "3       Angola     2007   9.05\n",
       "4    Argentina     2007  14.60"
      ]
     },
     "execution_count": 19,
     "metadata": {},
     "output_type": "execute_result"
    }
   ],
   "source": [
    "acvo.head()"
   ]
  },
  {
   "cell_type": "code",
   "execution_count": 20,
   "id": "d30f1297",
   "metadata": {},
   "outputs": [],
   "source": [
    "acvo.rename(columns={'variable' : 'Year', 'value' : 'Vegetable Oil'}, inplace=True)"
   ]
  },
  {
   "cell_type": "code",
   "execution_count": 21,
   "id": "108103ea",
   "metadata": {},
   "outputs": [
    {
     "data": {
      "text/html": [
       "<div>\n",
       "<style scoped>\n",
       "    .dataframe tbody tr th:only-of-type {\n",
       "        vertical-align: middle;\n",
       "    }\n",
       "\n",
       "    .dataframe tbody tr th {\n",
       "        vertical-align: top;\n",
       "    }\n",
       "\n",
       "    .dataframe thead th {\n",
       "        text-align: right;\n",
       "    }\n",
       "</style>\n",
       "<table border=\"1\" class=\"dataframe\">\n",
       "  <thead>\n",
       "    <tr style=\"text-align: right;\">\n",
       "      <th></th>\n",
       "      <th>Entity</th>\n",
       "      <th>Year</th>\n",
       "      <th>Vegetable Oil</th>\n",
       "    </tr>\n",
       "  </thead>\n",
       "  <tbody>\n",
       "    <tr>\n",
       "      <th>0</th>\n",
       "      <td>Afghanistan</td>\n",
       "      <td>2007</td>\n",
       "      <td>3.48</td>\n",
       "    </tr>\n",
       "    <tr>\n",
       "      <th>1</th>\n",
       "      <td>Albania</td>\n",
       "      <td>2007</td>\n",
       "      <td>7.00</td>\n",
       "    </tr>\n",
       "    <tr>\n",
       "      <th>2</th>\n",
       "      <td>Algeria</td>\n",
       "      <td>2007</td>\n",
       "      <td>13.60</td>\n",
       "    </tr>\n",
       "    <tr>\n",
       "      <th>3</th>\n",
       "      <td>Angola</td>\n",
       "      <td>2007</td>\n",
       "      <td>9.05</td>\n",
       "    </tr>\n",
       "    <tr>\n",
       "      <th>4</th>\n",
       "      <td>Argentina</td>\n",
       "      <td>2007</td>\n",
       "      <td>14.60</td>\n",
       "    </tr>\n",
       "  </tbody>\n",
       "</table>\n",
       "</div>"
      ],
      "text/plain": [
       "        Entity  Year  Vegetable Oil\n",
       "0  Afghanistan  2007           3.48\n",
       "1      Albania  2007           7.00\n",
       "2      Algeria  2007          13.60\n",
       "3       Angola  2007           9.05\n",
       "4    Argentina  2007          14.60"
      ]
     },
     "execution_count": 21,
     "metadata": {},
     "output_type": "execute_result"
    }
   ],
   "source": [
    "acvo.head()"
   ]
  },
  {
   "cell_type": "code",
   "execution_count": 22,
   "id": "d0c00371",
   "metadata": {},
   "outputs": [],
   "source": [
    "country_list = acvo.Entity.unique()"
   ]
  },
  {
   "cell_type": "code",
   "execution_count": 23,
   "id": "5d5d4cdc",
   "metadata": {},
   "outputs": [],
   "source": [
    "country_list = [country for country in country_list]"
   ]
  },
  {
   "cell_type": "code",
   "execution_count": 24,
   "id": "23bba236",
   "metadata": {},
   "outputs": [
    {
     "data": {
      "text/plain": [
       "159"
      ]
     },
     "execution_count": 24,
     "metadata": {},
     "output_type": "execute_result"
    }
   ],
   "source": [
    "len(country_list)"
   ]
  },
  {
   "cell_type": "code",
   "execution_count": 25,
   "id": "60e6a526",
   "metadata": {},
   "outputs": [
    {
     "data": {
      "text/plain": [
       "dtype('float64')"
      ]
     },
     "execution_count": 25,
     "metadata": {},
     "output_type": "execute_result"
    }
   ],
   "source": [
    "acvo['Vegetable Oil'].dtypes"
   ]
  },
  {
   "cell_type": "code",
   "execution_count": 26,
   "id": "d8931abc",
   "metadata": {},
   "outputs": [
    {
     "data": {
      "text/plain": [
       "0     3.48\n",
       "1     7.00\n",
       "2    13.60\n",
       "3     9.05\n",
       "4    14.60\n",
       "Name: Vegetable Oil, dtype: float64"
      ]
     },
     "execution_count": 26,
     "metadata": {},
     "output_type": "execute_result"
    }
   ],
   "source": [
    "acvo['Vegetable Oil'].head()"
   ]
  },
  {
   "cell_type": "code",
   "execution_count": 27,
   "id": "ac638b36",
   "metadata": {},
   "outputs": [],
   "source": [
    "acvo['Vegetable Oil'] *= 1000"
   ]
  },
  {
   "cell_type": "code",
   "execution_count": 28,
   "id": "77f0b9d6",
   "metadata": {},
   "outputs": [],
   "source": [
    "acvo['Vegetable Oil'] /= 365"
   ]
  },
  {
   "cell_type": "code",
   "execution_count": 29,
   "id": "47bc6413",
   "metadata": {},
   "outputs": [],
   "source": [
    "acvo['Vegetable Oil'] *= 9"
   ]
  },
  {
   "cell_type": "code",
   "execution_count": 30,
   "id": "288d1531",
   "metadata": {},
   "outputs": [
    {
     "data": {
      "text/html": [
       "<div>\n",
       "<style scoped>\n",
       "    .dataframe tbody tr th:only-of-type {\n",
       "        vertical-align: middle;\n",
       "    }\n",
       "\n",
       "    .dataframe tbody tr th {\n",
       "        vertical-align: top;\n",
       "    }\n",
       "\n",
       "    .dataframe thead th {\n",
       "        text-align: right;\n",
       "    }\n",
       "</style>\n",
       "<table border=\"1\" class=\"dataframe\">\n",
       "  <thead>\n",
       "    <tr style=\"text-align: right;\">\n",
       "      <th></th>\n",
       "      <th>Entity</th>\n",
       "      <th>Year</th>\n",
       "      <th>Vegetable Oil</th>\n",
       "    </tr>\n",
       "  </thead>\n",
       "  <tbody>\n",
       "    <tr>\n",
       "      <th>49</th>\n",
       "      <td>France</td>\n",
       "      <td>2007</td>\n",
       "      <td>507.945205</td>\n",
       "    </tr>\n",
       "    <tr>\n",
       "      <th>208</th>\n",
       "      <td>France</td>\n",
       "      <td>2008</td>\n",
       "      <td>517.808219</td>\n",
       "    </tr>\n",
       "    <tr>\n",
       "      <th>367</th>\n",
       "      <td>France</td>\n",
       "      <td>2009</td>\n",
       "      <td>530.136986</td>\n",
       "    </tr>\n",
       "    <tr>\n",
       "      <th>526</th>\n",
       "      <td>France</td>\n",
       "      <td>2010</td>\n",
       "      <td>520.273973</td>\n",
       "    </tr>\n",
       "    <tr>\n",
       "      <th>685</th>\n",
       "      <td>France</td>\n",
       "      <td>2011</td>\n",
       "      <td>517.808219</td>\n",
       "    </tr>\n",
       "  </tbody>\n",
       "</table>\n",
       "</div>"
      ],
      "text/plain": [
       "     Entity  Year  Vegetable Oil\n",
       "49   France  2007     507.945205\n",
       "208  France  2008     517.808219\n",
       "367  France  2009     530.136986\n",
       "526  France  2010     520.273973\n",
       "685  France  2011     517.808219"
      ]
     },
     "execution_count": 30,
     "metadata": {},
     "output_type": "execute_result"
    }
   ],
   "source": [
    "# Checking data with other tables\n",
    "acvo[acvo['Entity'] == 'France']"
   ]
  },
  {
   "cell_type": "code",
   "execution_count": 31,
   "id": "a3603cbb",
   "metadata": {},
   "outputs": [],
   "source": [
    "acvo['Year'] = acvo['Year'].astype('int64')"
   ]
  },
  {
   "cell_type": "markdown",
   "id": "da324d68",
   "metadata": {},
   "source": [
    "###### All Countries Heart Disease MR"
   ]
  },
  {
   "cell_type": "code",
   "execution_count": 32,
   "id": "8868e872",
   "metadata": {},
   "outputs": [
    {
     "data": {
      "text/plain": [
       "(1155, 5)"
      ]
     },
     "execution_count": 32,
     "metadata": {},
     "output_type": "execute_result"
    }
   ],
   "source": [
    "acmr.shape"
   ]
  },
  {
   "cell_type": "code",
   "execution_count": 33,
   "id": "c9b6ef2d",
   "metadata": {},
   "outputs": [
    {
     "data": {
      "text/html": [
       "<div>\n",
       "<style scoped>\n",
       "    .dataframe tbody tr th:only-of-type {\n",
       "        vertical-align: middle;\n",
       "    }\n",
       "\n",
       "    .dataframe tbody tr th {\n",
       "        vertical-align: top;\n",
       "    }\n",
       "\n",
       "    .dataframe thead th {\n",
       "        text-align: right;\n",
       "    }\n",
       "</style>\n",
       "<table border=\"1\" class=\"dataframe\">\n",
       "  <thead>\n",
       "    <tr style=\"text-align: right;\">\n",
       "      <th></th>\n",
       "      <th>Unnamed: 0</th>\n",
       "      <th>Entity</th>\n",
       "      <th>Code</th>\n",
       "      <th>Year</th>\n",
       "      <th>Deaths</th>\n",
       "    </tr>\n",
       "  </thead>\n",
       "  <tbody>\n",
       "    <tr>\n",
       "      <th>0</th>\n",
       "      <td>0</td>\n",
       "      <td>Afghanistan</td>\n",
       "      <td>AFG</td>\n",
       "      <td>2007</td>\n",
       "      <td>707.188774</td>\n",
       "    </tr>\n",
       "    <tr>\n",
       "      <th>1</th>\n",
       "      <td>1</td>\n",
       "      <td>Afghanistan</td>\n",
       "      <td>AFG</td>\n",
       "      <td>2008</td>\n",
       "      <td>693.448663</td>\n",
       "    </tr>\n",
       "    <tr>\n",
       "      <th>2</th>\n",
       "      <td>2</td>\n",
       "      <td>Afghanistan</td>\n",
       "      <td>AFG</td>\n",
       "      <td>2009</td>\n",
       "      <td>677.845507</td>\n",
       "    </tr>\n",
       "    <tr>\n",
       "      <th>3</th>\n",
       "      <td>3</td>\n",
       "      <td>Afghanistan</td>\n",
       "      <td>AFG</td>\n",
       "      <td>2010</td>\n",
       "      <td>662.616946</td>\n",
       "    </tr>\n",
       "    <tr>\n",
       "      <th>4</th>\n",
       "      <td>4</td>\n",
       "      <td>Afghanistan</td>\n",
       "      <td>AFG</td>\n",
       "      <td>2011</td>\n",
       "      <td>649.725628</td>\n",
       "    </tr>\n",
       "  </tbody>\n",
       "</table>\n",
       "</div>"
      ],
      "text/plain": [
       "   Unnamed: 0       Entity Code  Year      Deaths\n",
       "0           0  Afghanistan  AFG  2007  707.188774\n",
       "1           1  Afghanistan  AFG  2008  693.448663\n",
       "2           2  Afghanistan  AFG  2009  677.845507\n",
       "3           3  Afghanistan  AFG  2010  662.616946\n",
       "4           4  Afghanistan  AFG  2011  649.725628"
      ]
     },
     "execution_count": 33,
     "metadata": {},
     "output_type": "execute_result"
    }
   ],
   "source": [
    "acmr.head()"
   ]
  },
  {
   "cell_type": "code",
   "execution_count": 34,
   "id": "1e1420db",
   "metadata": {},
   "outputs": [],
   "source": [
    "acmr.drop(columns=['Unnamed: 0', 'Code'], inplace=True)"
   ]
  },
  {
   "cell_type": "code",
   "execution_count": 38,
   "id": "6eb3f6d5",
   "metadata": {},
   "outputs": [],
   "source": [
    "dfi.export(acmr.head(), 'allcountry.png')"
   ]
  },
  {
   "cell_type": "code",
   "execution_count": 45,
   "id": "31fd143b",
   "metadata": {},
   "outputs": [],
   "source": [
    "# acmr = acmr.pivot(index='Year', columns='Entity', values='Deaths')"
   ]
  },
  {
   "cell_type": "markdown",
   "id": "2594270d",
   "metadata": {},
   "source": [
    "### Merge Data sets"
   ]
  },
  {
   "cell_type": "code",
   "execution_count": 27,
   "id": "e75c3788",
   "metadata": {},
   "outputs": [
    {
     "data": {
      "text/plain": [
       "Entity     object\n",
       "Year        int64\n",
       "Deaths    float64\n",
       "dtype: object"
      ]
     },
     "execution_count": 27,
     "metadata": {},
     "output_type": "execute_result"
    }
   ],
   "source": [
    "acmr.dtypes"
   ]
  },
  {
   "cell_type": "code",
   "execution_count": 28,
   "id": "fc7b4482",
   "metadata": {},
   "outputs": [
    {
     "data": {
      "text/plain": [
       "Entity            object\n",
       "Year               int64\n",
       "Vegetable Oil    float64\n",
       "dtype: object"
      ]
     },
     "execution_count": 28,
     "metadata": {},
     "output_type": "execute_result"
    }
   ],
   "source": [
    "acvo.dtypes"
   ]
  },
  {
   "cell_type": "code",
   "execution_count": 29,
   "id": "64ca1ab1",
   "metadata": {},
   "outputs": [],
   "source": [
    "mergeVOMR = pd.merge(acvo, acmr)"
   ]
  },
  {
   "cell_type": "code",
   "execution_count": 30,
   "id": "388f291a",
   "metadata": {},
   "outputs": [
    {
     "data": {
      "text/plain": [
       "(740, 4)"
      ]
     },
     "execution_count": 30,
     "metadata": {},
     "output_type": "execute_result"
    }
   ],
   "source": [
    "mergeVOMR.shape"
   ]
  },
  {
   "cell_type": "code",
   "execution_count": 31,
   "id": "a69d82a6",
   "metadata": {},
   "outputs": [
    {
     "data": {
      "text/plain": [
       "array(['Afghanistan', 'Albania', 'Algeria', 'Angola', 'Argentina',\n",
       "       'Armenia', 'Australia', 'Austria', 'Azerbaijan', 'Bahamas',\n",
       "       'Bangladesh', 'Belarus', 'Belgium', 'Belize', 'Benin', 'Bolivia',\n",
       "       'Bosnia and Herzegovina', 'Botswana', 'Brazil', 'Brunei',\n",
       "       'Bulgaria', 'Burkina Faso', 'Cambodia', 'Cameroon', 'Canada',\n",
       "       'Central African Republic', 'Chad', 'Chile', 'China', 'Colombia',\n",
       "       'Congo', 'Costa Rica', 'Croatia', 'Cuba', 'Cyprus', 'Denmark',\n",
       "       'Djibouti', 'Dominican Republic', 'Ecuador', 'Egypt',\n",
       "       'El Salvador', 'Estonia', 'Ethiopia', 'Fiji', 'Finland', 'France',\n",
       "       'Gabon', 'Gambia', 'Georgia', 'Germany', 'Ghana', 'Greece',\n",
       "       'Guatemala', 'Guinea', 'Guyana', 'Haiti', 'Honduras', 'Hungary',\n",
       "       'Iceland', 'India', 'Indonesia', 'Iraq', 'Iran', 'Ireland',\n",
       "       'Israel', 'Italy', 'Jamaica', 'Japan', 'Jordan', 'Kazakhstan',\n",
       "       'Kenya', 'Kuwait', 'Kyrgyzstan', 'Laos', 'Latvia', 'Lebanon',\n",
       "       'Lesotho', 'Liberia', 'Lithuania', 'Luxembourg', 'Madagascar',\n",
       "       'Malawi', 'Malaysia', 'Maldives', 'Mali', 'Malta', 'Mauritania',\n",
       "       'Mauritius', 'Mexico', 'Moldova', 'Mongolia', 'Montenegro',\n",
       "       'Morocco', 'Mozambique', 'Myanmar', 'Namibia', 'Nepal',\n",
       "       'Netherlands', 'New Zealand', 'Nicaragua', 'Niger', 'Nigeria',\n",
       "       'Norway', 'Oman', 'Pakistan', 'Panama', 'Paraguay', 'Peru',\n",
       "       'Philippines', 'Poland', 'Portugal', 'Romania', 'Russia', 'Rwanda',\n",
       "       'Saudi Arabia', 'Senegal', 'Serbia', 'Sierra Leone', 'Slovakia',\n",
       "       'Slovenia', 'South Africa', 'South Korea', 'Spain', 'Sri Lanka',\n",
       "       'Suriname', 'Sweden', 'Switzerland', 'Taiwan', 'Tajikistan',\n",
       "       'Tanzania', 'Thailand', 'Togo', 'Trinidad and Tobago', 'Tunisia',\n",
       "       'Turkey', 'Turkmenistan', 'Uganda', 'Ukraine',\n",
       "       'United Arab Emirates', 'United Kingdom', 'Uruguay', 'Uzbekistan',\n",
       "       'Venezuela', 'Vietnam', 'Yemen', 'Zambia', 'Zimbabwe', 'World'],\n",
       "      dtype=object)"
      ]
     },
     "execution_count": 31,
     "metadata": {},
     "output_type": "execute_result"
    }
   ],
   "source": [
    "mergeVOMR['Entity'].unique()"
   ]
  },
  {
   "cell_type": "code",
   "execution_count": 32,
   "id": "0aa4c467",
   "metadata": {},
   "outputs": [],
   "source": [
    "mergeVOMR.to_csv('ADmergeVOM.csv')"
   ]
  },
  {
   "cell_type": "markdown",
   "id": "effa22fa",
   "metadata": {},
   "source": [
    "###### Both Data sets contained a total of 147 countries in common (without counting the world row)"
   ]
  },
  {
   "cell_type": "code",
   "execution_count": 138,
   "id": "9f7eb513",
   "metadata": {},
   "outputs": [
    {
     "data": {
      "text/plain": [
       "148"
      ]
     },
     "execution_count": 138,
     "metadata": {},
     "output_type": "execute_result"
    }
   ],
   "source": [
    "len(mergeVOMR.Entity.unique())"
   ]
  },
  {
   "cell_type": "code",
   "execution_count": 143,
   "id": "208124f2",
   "metadata": {},
   "outputs": [
    {
     "data": {
      "text/plain": [
       "Entity           0\n",
       "Year             0\n",
       "Vegetable Oil    0\n",
       "Deaths           0\n",
       "dtype: int64"
      ]
     },
     "execution_count": 143,
     "metadata": {},
     "output_type": "execute_result"
    }
   ],
   "source": [
    "#No null values them\n",
    "mergeVOMR.isnull().sum()"
   ]
  },
  {
   "cell_type": "markdown",
   "id": "a9134211",
   "metadata": {},
   "source": [
    "### Time to plot"
   ]
  },
  {
   "cell_type": "code",
   "execution_count": 144,
   "id": "0b7f1f34",
   "metadata": {},
   "outputs": [
    {
     "data": {
      "text/html": [
       "<div>\n",
       "<style scoped>\n",
       "    .dataframe tbody tr th:only-of-type {\n",
       "        vertical-align: middle;\n",
       "    }\n",
       "\n",
       "    .dataframe tbody tr th {\n",
       "        vertical-align: top;\n",
       "    }\n",
       "\n",
       "    .dataframe thead th {\n",
       "        text-align: right;\n",
       "    }\n",
       "</style>\n",
       "<table border=\"1\" class=\"dataframe\">\n",
       "  <thead>\n",
       "    <tr style=\"text-align: right;\">\n",
       "      <th></th>\n",
       "      <th>Entity</th>\n",
       "      <th>Year</th>\n",
       "      <th>Vegetable Oil</th>\n",
       "      <th>Deaths</th>\n",
       "    </tr>\n",
       "  </thead>\n",
       "  <tbody>\n",
       "    <tr>\n",
       "      <th>0</th>\n",
       "      <td>Afghanistan</td>\n",
       "      <td>2007</td>\n",
       "      <td>85.808219</td>\n",
       "      <td>707.188774</td>\n",
       "    </tr>\n",
       "    <tr>\n",
       "      <th>1</th>\n",
       "      <td>Albania</td>\n",
       "      <td>2007</td>\n",
       "      <td>172.602740</td>\n",
       "      <td>339.928986</td>\n",
       "    </tr>\n",
       "    <tr>\n",
       "      <th>2</th>\n",
       "      <td>Algeria</td>\n",
       "      <td>2007</td>\n",
       "      <td>335.342466</td>\n",
       "      <td>328.078554</td>\n",
       "    </tr>\n",
       "    <tr>\n",
       "      <th>3</th>\n",
       "      <td>Angola</td>\n",
       "      <td>2007</td>\n",
       "      <td>223.150685</td>\n",
       "      <td>344.017796</td>\n",
       "    </tr>\n",
       "    <tr>\n",
       "      <th>4</th>\n",
       "      <td>Argentina</td>\n",
       "      <td>2007</td>\n",
       "      <td>360.000000</td>\n",
       "      <td>220.586059</td>\n",
       "    </tr>\n",
       "  </tbody>\n",
       "</table>\n",
       "</div>"
      ],
      "text/plain": [
       "        Entity  Year  Vegetable Oil      Deaths\n",
       "0  Afghanistan  2007      85.808219  707.188774\n",
       "1      Albania  2007     172.602740  339.928986\n",
       "2      Algeria  2007     335.342466  328.078554\n",
       "3       Angola  2007     223.150685  344.017796\n",
       "4    Argentina  2007     360.000000  220.586059"
      ]
     },
     "execution_count": 144,
     "metadata": {},
     "output_type": "execute_result"
    }
   ],
   "source": [
    "#here is how the data looks\n",
    "mergeVOMR.head()"
   ]
  },
  {
   "cell_type": "code",
   "execution_count": 150,
   "id": "728e02e5",
   "metadata": {},
   "outputs": [],
   "source": [
    "dfi.export(mergeVOMR.loc[:,'Vegetable Oil':].describe(), 'vegetableOilAndDeaths.png')"
   ]
  },
  {
   "cell_type": "code",
   "execution_count": 232,
   "id": "b30802bd",
   "metadata": {},
   "outputs": [
    {
     "data": {
      "text/html": [
       "<div>\n",
       "<style scoped>\n",
       "    .dataframe tbody tr th:only-of-type {\n",
       "        vertical-align: middle;\n",
       "    }\n",
       "\n",
       "    .dataframe tbody tr th {\n",
       "        vertical-align: top;\n",
       "    }\n",
       "\n",
       "    .dataframe thead th {\n",
       "        text-align: right;\n",
       "    }\n",
       "</style>\n",
       "<table border=\"1\" class=\"dataframe\">\n",
       "  <thead>\n",
       "    <tr style=\"text-align: right;\">\n",
       "      <th></th>\n",
       "      <th>Vegetable Oil</th>\n",
       "      <th>Deaths</th>\n",
       "    </tr>\n",
       "  </thead>\n",
       "  <tbody>\n",
       "    <tr>\n",
       "      <th>count</th>\n",
       "      <td>740.000000</td>\n",
       "      <td>740.000000</td>\n",
       "    </tr>\n",
       "    <tr>\n",
       "      <th>mean</th>\n",
       "      <td>284.938467</td>\n",
       "      <td>288.899940</td>\n",
       "    </tr>\n",
       "    <tr>\n",
       "      <th>std</th>\n",
       "      <td>147.470026</td>\n",
       "      <td>136.808543</td>\n",
       "    </tr>\n",
       "    <tr>\n",
       "      <th>min</th>\n",
       "      <td>24.657534</td>\n",
       "      <td>89.784507</td>\n",
       "    </tr>\n",
       "    <tr>\n",
       "      <th>25%</th>\n",
       "      <td>179.691781</td>\n",
       "      <td>181.286112</td>\n",
       "    </tr>\n",
       "    <tr>\n",
       "      <th>50%</th>\n",
       "      <td>261.369863</td>\n",
       "      <td>261.861644</td>\n",
       "    </tr>\n",
       "    <tr>\n",
       "      <th>75%</th>\n",
       "      <td>384.657534</td>\n",
       "      <td>360.329894</td>\n",
       "    </tr>\n",
       "    <tr>\n",
       "      <th>max</th>\n",
       "      <td>821.095890</td>\n",
       "      <td>791.334881</td>\n",
       "    </tr>\n",
       "  </tbody>\n",
       "</table>\n",
       "</div>"
      ],
      "text/plain": [
       "       Vegetable Oil      Deaths\n",
       "count     740.000000  740.000000\n",
       "mean      284.938467  288.899940\n",
       "std       147.470026  136.808543\n",
       "min        24.657534   89.784507\n",
       "25%       179.691781  181.286112\n",
       "50%       261.369863  261.861644\n",
       "75%       384.657534  360.329894\n",
       "max       821.095890  791.334881"
      ]
     },
     "execution_count": 232,
     "metadata": {},
     "output_type": "execute_result"
    }
   ],
   "source": [
    "mergeVOMR.loc[:,'Vegetable Oil':].describe()"
   ]
  },
  {
   "cell_type": "code",
   "execution_count": 151,
   "id": "5e057b7f",
   "metadata": {},
   "outputs": [],
   "source": [
    "#Setting the X and the Y Variables\n",
    "x = mergeVOMR['Deaths']\n",
    "y = mergeVOMR['Vegetable Oil']"
   ]
  },
  {
   "cell_type": "code",
   "execution_count": 197,
   "id": "abfcde98",
   "metadata": {},
   "outputs": [
    {
     "data": {
      "image/png": "[encoded data removed]",
      "text/plain": [
       "<Figure size 432x288 with 1 Axes>"
      ]
     },
     "metadata": {
      "needs_background": "light"
     },
     "output_type": "display_data"
    }
   ],
   "source": [
    "plt.title('Correlation between Vegetable Oil Consumption (kcal per day) and Mortality by CAD')\n",
    "plt.ylabel('Calories from Vegetable Oil per day')\n",
    "plt.xlabel('Mortality by CAD')\n",
    "plt.scatter(x, y)\n",
    "z = np.polyfit(x, y, 1)\n",
    "p = np.poly1d(z)\n",
    "plt.plot(x,p(x),\"r--\")\n",
    "plt.savefig('CorrelationVOMR.png', dpi=200, bbox_inches='tight')"
   ]
  },
  {
   "cell_type": "code",
   "execution_count": 224,
   "id": "f8983bf5",
   "metadata": {},
   "outputs": [
    {
     "data": {
      "image/png": "[encoded data removed]",
      "text/plain": [
       "<Figure size 432x288 with 1 Axes>"
      ]
     },
     "metadata": {
      "needs_background": "light"
     },
     "output_type": "display_data"
    }
   ],
   "source": [
    "plt.title('Correlation between Vegetable Oil Consumption (kcal per day) and Mortality by CAD')\n",
    "plt.ylabel('Calories from Vegetable Oil per day')\n",
    "plt.xlabel('Mortality by CAD')\n",
    "plt.plot(x,y,\"b.\", ms=10, mec=\"k\")\n",
    "z = np.polyfit(x, y, 1)\n",
    "y_hat = np.poly1d(z)(x)\n",
    "\n",
    "plt.plot(x, y_hat, \"r--\", lw=1)\n",
    "text = f\"$y={z[0]:0.3f}\\;x{z[1]:+0.3f}$\\n$R^2 = {r2_score(y,y_hat):0.3f}$\"\n",
    "plt.gca().text(1.05, 0.95, text,transform=plt.gca().transAxes,\n",
    "     fontsize=14, verticalalignment='top')\n",
    "plt.savefig('CorrelationVOMR.png', dpi=200, bbox_inches='tight')"
   ]
  },
  {
   "cell_type": "markdown",
   "id": "63c65583",
   "metadata": {},
   "source": [
    "### 10 European Countries List"
   ]
  },
  {
   "cell_type": "code",
   "execution_count": 36,
   "id": "a444b492",
   "metadata": {},
   "outputs": [],
   "source": [
    "tenE_list = ['France', 'Germany', 'Italy', 'Netherlands', 'Poland', 'Russia',\n",
    "       'Spain', 'Switzerland', 'Turkey', 'United Kingdom']"
   ]
  },
  {
   "cell_type": "code",
   "execution_count": 37,
   "id": "96a8de3e",
   "metadata": {},
   "outputs": [
    {
     "data": {
      "text/plain": [
       "['France',\n",
       " 'Germany',\n",
       " 'Italy',\n",
       " 'Netherlands',\n",
       " 'Poland',\n",
       " 'Russia',\n",
       " 'Spain',\n",
       " 'Switzerland',\n",
       " 'Turkey',\n",
       " 'United Kingdom']"
      ]
     },
     "execution_count": 37,
     "metadata": {},
     "output_type": "execute_result"
    }
   ],
   "source": [
    "tenE_list"
   ]
  },
  {
   "cell_type": "code",
   "execution_count": 38,
   "id": "a6e96252",
   "metadata": {},
   "outputs": [],
   "source": [
    "mergeEuro = mergeVOMR[mergeVOMR['Entity'].isin(tenE_list)]"
   ]
  },
  {
   "cell_type": "code",
   "execution_count": 40,
   "id": "8dcfb33c",
   "metadata": {},
   "outputs": [],
   "source": [
    "mergeEuro.to_csv('mergeEuro.csv')"
   ]
  },
  {
   "cell_type": "code",
   "execution_count": 185,
   "id": "f156a2fa",
   "metadata": {},
   "outputs": [],
   "source": [
    "xx = mergeEuro['Deaths']\n",
    "yy = mergeEuro['Vegetable Oil']"
   ]
  },
  {
   "cell_type": "code",
   "execution_count": 231,
   "id": "2bd1af31",
   "metadata": {},
   "outputs": [],
   "source": [
    "dfi.export(mergeEuro.loc[:, 'Vegetable Oil' :'Deaths'].describe(), 'mergeEuroStats.png')"
   ]
  },
  {
   "cell_type": "code",
   "execution_count": 233,
   "id": "8286faf6",
   "metadata": {},
   "outputs": [
    {
     "data": {
      "text/html": [
       "<div>\n",
       "<style scoped>\n",
       "    .dataframe tbody tr th:only-of-type {\n",
       "        vertical-align: middle;\n",
       "    }\n",
       "\n",
       "    .dataframe tbody tr th {\n",
       "        vertical-align: top;\n",
       "    }\n",
       "\n",
       "    .dataframe thead th {\n",
       "        text-align: right;\n",
       "    }\n",
       "</style>\n",
       "<table border=\"1\" class=\"dataframe\">\n",
       "  <thead>\n",
       "    <tr style=\"text-align: right;\">\n",
       "      <th></th>\n",
       "      <th>Vegetable Oil</th>\n",
       "      <th>Deaths</th>\n",
       "    </tr>\n",
       "  </thead>\n",
       "  <tbody>\n",
       "    <tr>\n",
       "      <th>count</th>\n",
       "      <td>50.000000</td>\n",
       "      <td>50.000000</td>\n",
       "    </tr>\n",
       "    <tr>\n",
       "      <th>mean</th>\n",
       "      <td>486.493151</td>\n",
       "      <td>196.486640</td>\n",
       "    </tr>\n",
       "    <tr>\n",
       "      <th>std</th>\n",
       "      <td>140.447929</td>\n",
       "      <td>135.247507</td>\n",
       "    </tr>\n",
       "    <tr>\n",
       "      <th>min</th>\n",
       "      <td>276.164384</td>\n",
       "      <td>101.182683</td>\n",
       "    </tr>\n",
       "    <tr>\n",
       "      <th>25%</th>\n",
       "      <td>390.205479</td>\n",
       "      <td>125.727912</td>\n",
       "    </tr>\n",
       "    <tr>\n",
       "      <th>50%</th>\n",
       "      <td>461.095890</td>\n",
       "      <td>138.600611</td>\n",
       "    </tr>\n",
       "    <tr>\n",
       "      <th>75%</th>\n",
       "      <td>574.520548</td>\n",
       "      <td>186.434305</td>\n",
       "    </tr>\n",
       "    <tr>\n",
       "      <th>max</th>\n",
       "      <td>821.095890</td>\n",
       "      <td>608.128850</td>\n",
       "    </tr>\n",
       "  </tbody>\n",
       "</table>\n",
       "</div>"
      ],
      "text/plain": [
       "       Vegetable Oil      Deaths\n",
       "count      50.000000   50.000000\n",
       "mean      486.493151  196.486640\n",
       "std       140.447929  135.247507\n",
       "min       276.164384  101.182683\n",
       "25%       390.205479  125.727912\n",
       "50%       461.095890  138.600611\n",
       "75%       574.520548  186.434305\n",
       "max       821.095890  608.128850"
      ]
     },
     "execution_count": 233,
     "metadata": {},
     "output_type": "execute_result"
    }
   ],
   "source": [
    "mergeEuro.loc[:, 'Vegetable Oil' :'Deaths'].describe()"
   ]
  },
  {
   "cell_type": "code",
   "execution_count": 194,
   "id": "9ebe9775",
   "metadata": {},
   "outputs": [
    {
     "data": {
      "image/png": "[encoded data removed]",
      "text/plain": [
       "<Figure size 432x288 with 1 Axes>"
      ]
     },
     "metadata": {
      "needs_background": "light"
     },
     "output_type": "display_data"
    }
   ],
   "source": [
    "plt.title('Correlation Wikipedia’s List of sovereign states in Europe by GDP (nominal)')\n",
    "plt.ylabel('Calories from Vegetable Oil per day')\n",
    "plt.xlabel('Mortality by CAD')\n",
    "plt.scatter(xx, yy)\n",
    "z = np.polyfit(xx, yy, 1)\n",
    "p = np.poly1d(z)\n",
    "plt.plot(xx,p(xx),\"r--\")\n",
    "# plt.savefig('CorrelationEURO.png', dpi=200, bbox_inches='tight')"
   ]
  },
  {
   "cell_type": "code",
   "execution_count": 223,
   "id": "5f5b7791",
   "metadata": {},
   "outputs": [
    {
     "data": {
      "image/png": "[encoded data removed]",
      "text/plain": [
       "<Figure size 432x288 with 1 Axes>"
      ]
     },
     "metadata": {
      "needs_background": "light"
     },
     "output_type": "display_data"
    }
   ],
   "source": [
    "plt.title('Correlation Wikipedia’s List of sovereign states in Europe by GDP (nominal)')\n",
    "plt.ylabel('Calories from Vegetable Oil per day')\n",
    "plt.xlabel('Mortality by CAD')\n",
    "plt.plot(xx,yy,\"b.\", ms=10, mec=\"k\")\n",
    "z = np.polyfit(xx, yy, 1)\n",
    "y_hat = np.poly1d(z)(xx)\n",
    "\n",
    "plt.plot(xx, y_hat, \"r--\", lw=1)\n",
    "text = f\"$y={z[0]:0.3f}\\;x{z[1]:+0.3f}$\\n$R^2 = {r2_score(yy,y_hat):0.3f}$\"\n",
    "plt.gca().text(1.05, 0.95, text,transform=plt.gca().transAxes,\n",
    "     fontsize=14, verticalalignment='top')\n",
    "plt.savefig('CorrelationEuro.png', dpi=200, bbox_inches='tight')"
   ]
  },
  {
   "cell_type": "markdown",
   "id": "fc9cd830",
   "metadata": {},
   "source": [
    "### Euro Regression line"
   ]
  },
  {
   "cell_type": "code",
   "execution_count": 45,
   "id": "1f1c070c",
   "metadata": {},
   "outputs": [
    {
     "data": {
      "text/html": [
       "<div>\n",
       "<style scoped>\n",
       "    .dataframe tbody tr th:only-of-type {\n",
       "        vertical-align: middle;\n",
       "    }\n",
       "\n",
       "    .dataframe tbody tr th {\n",
       "        vertical-align: top;\n",
       "    }\n",
       "\n",
       "    .dataframe thead th {\n",
       "        text-align: right;\n",
       "    }\n",
       "</style>\n",
       "<table border=\"1\" class=\"dataframe\">\n",
       "  <thead>\n",
       "    <tr style=\"text-align: right;\">\n",
       "      <th></th>\n",
       "      <th>Unnamed: 0</th>\n",
       "      <th>Entity</th>\n",
       "      <th>Year</th>\n",
       "      <th>Vegetable Oil</th>\n",
       "    </tr>\n",
       "  </thead>\n",
       "  <tbody>\n",
       "    <tr>\n",
       "      <th>0</th>\n",
       "      <td>0</td>\n",
       "      <td>Albania</td>\n",
       "      <td>2007</td>\n",
       "      <td>172.602740</td>\n",
       "    </tr>\n",
       "    <tr>\n",
       "      <th>1</th>\n",
       "      <td>1</td>\n",
       "      <td>Armenia</td>\n",
       "      <td>2007</td>\n",
       "      <td>182.465753</td>\n",
       "    </tr>\n",
       "    <tr>\n",
       "      <th>2</th>\n",
       "      <td>2</td>\n",
       "      <td>Austria</td>\n",
       "      <td>2007</td>\n",
       "      <td>542.465753</td>\n",
       "    </tr>\n",
       "    <tr>\n",
       "      <th>3</th>\n",
       "      <td>3</td>\n",
       "      <td>Azerbaijan</td>\n",
       "      <td>2007</td>\n",
       "      <td>71.506849</td>\n",
       "    </tr>\n",
       "    <tr>\n",
       "      <th>4</th>\n",
       "      <td>4</td>\n",
       "      <td>Belarus</td>\n",
       "      <td>2007</td>\n",
       "      <td>387.123288</td>\n",
       "    </tr>\n",
       "    <tr>\n",
       "      <th>...</th>\n",
       "      <td>...</td>\n",
       "      <td>...</td>\n",
       "      <td>...</td>\n",
       "      <td>...</td>\n",
       "    </tr>\n",
       "    <tr>\n",
       "      <th>200</th>\n",
       "      <td>200</td>\n",
       "      <td>Sweden</td>\n",
       "      <td>2011</td>\n",
       "      <td>416.712329</td>\n",
       "    </tr>\n",
       "    <tr>\n",
       "      <th>201</th>\n",
       "      <td>201</td>\n",
       "      <td>Switzerland</td>\n",
       "      <td>2011</td>\n",
       "      <td>495.616438</td>\n",
       "    </tr>\n",
       "    <tr>\n",
       "      <th>202</th>\n",
       "      <td>202</td>\n",
       "      <td>Turkey</td>\n",
       "      <td>2011</td>\n",
       "      <td>613.972603</td>\n",
       "    </tr>\n",
       "    <tr>\n",
       "      <th>203</th>\n",
       "      <td>203</td>\n",
       "      <td>Ukraine</td>\n",
       "      <td>2011</td>\n",
       "      <td>315.616438</td>\n",
       "    </tr>\n",
       "    <tr>\n",
       "      <th>204</th>\n",
       "      <td>204</td>\n",
       "      <td>United Kingdom</td>\n",
       "      <td>2011</td>\n",
       "      <td>431.506849</td>\n",
       "    </tr>\n",
       "  </tbody>\n",
       "</table>\n",
       "<p>205 rows × 4 columns</p>\n",
       "</div>"
      ],
      "text/plain": [
       "     Unnamed: 0          Entity  Year  Vegetable Oil\n",
       "0             0         Albania  2007     172.602740\n",
       "1             1         Armenia  2007     182.465753\n",
       "2             2         Austria  2007     542.465753\n",
       "3             3      Azerbaijan  2007      71.506849\n",
       "4             4         Belarus  2007     387.123288\n",
       "..          ...             ...   ...            ...\n",
       "200         200          Sweden  2011     416.712329\n",
       "201         201     Switzerland  2011     495.616438\n",
       "202         202          Turkey  2011     613.972603\n",
       "203         203         Ukraine  2011     315.616438\n",
       "204         204  United Kingdom  2011     431.506849\n",
       "\n",
       "[205 rows x 4 columns]"
      ]
     },
     "execution_count": 45,
     "metadata": {},
     "output_type": "execute_result"
    }
   ],
   "source": [
    "euro"
   ]
  },
  {
   "cell_type": "code",
   "execution_count": 63,
   "id": "25087c88",
   "metadata": {},
   "outputs": [],
   "source": [
    "filterDSpain = euro[euro.loc[:, 'Entity'] != 'Spain']['Deaths']\n",
    "filterMSpain = euro[euro.loc[:, 'Entity'] != 'Spain']['Vegetable Oil']"
   ]
  },
  {
   "cell_type": "code",
   "execution_count": 64,
   "id": "8210099d",
   "metadata": {},
   "outputs": [],
   "source": [
    "xxx = filterDSpain\n",
    "yyy = filterMSpain"
   ]
  },
  {
   "cell_type": "code",
   "execution_count": 65,
   "id": "b7991d83",
   "metadata": {},
   "outputs": [
    {
     "data": {
      "text/plain": [
       "Text(1.05, 0.95, '$y=-0.448\\\\;x+481.954$\\n$R^2 = 0.225$')"
      ]
     },
     "execution_count": 65,
     "metadata": {},
     "output_type": "execute_result"
    },
    {
     "data": {
      "image/png": "[encoded data removed]",
      "text/plain": [
       "<Figure size 432x288 with 1 Axes>"
      ]
     },
     "metadata": {
      "needs_background": "light"
     },
     "output_type": "display_data"
    }
   ],
   "source": [
    "plt.title('Correlation Dataset 3')\n",
    "plt.ylabel('Calories from Vegetable Oil per day')\n",
    "plt.xlabel('Mortality by CAD')\n",
    "plt.plot(xxx,yyy,\"b.\", ms=10, mec=\"k\")\n",
    "z = np.polyfit(xxx, yyy, 1)\n",
    "y_hat = np.poly1d(z)(xxx)\n",
    "\n",
    "plt.plot(xxx, y_hat, \"r--\", lw=1)\n",
    "text = f\"$y={z[0]:0.3f}\\;x{z[1]:+0.3f}$\\n$R^2 = {r2_score(yyy,y_hat):0.3f}$\"\n",
    "plt.gca().text(1.05, 0.95, text,transform=plt.gca().transAxes,\n",
    "     fontsize=14, verticalalignment='top')\n",
    "#plt.savefig('CorrelationDataset3.png', dpi=200, bbox_inches='tight')"
   ]
  },
  {
   "cell_type": "code",
   "execution_count": null,
   "id": "17c46644",
   "metadata": {},
   "outputs": [],
   "source": []
  }
 ],
 "metadata": {
  "kernelspec": {
   "display_name": "Python 3",
   "language": "python",
   "name": "python3"
  },
  "language_info": {
   "codemirror_mode": {
    "name": "ipython",
    "version": 3
   },
   "file_extension": ".py",
   "mimetype": "text/x-python",
   "name": "python",
   "nbconvert_exporter": "python",
   "pygments_lexer": "ipython3",
   "version": "3.8.8"
  }
 },
 "nbformat": 4,
 "nbformat_minor": 5
}
