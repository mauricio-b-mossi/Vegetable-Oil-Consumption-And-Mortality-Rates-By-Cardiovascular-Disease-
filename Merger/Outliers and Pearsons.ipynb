{
 "cells": [
  {
   "cell_type": "code",
   "execution_count": 1,
   "id": "f591d31f",
   "metadata": {},
   "outputs": [],
   "source": [
    "import pandas as pd\n",
    "import matplotlib.pyplot as plt\n",
    "from pingouin import corr\n",
    "import dataframe_image as dfi"
   ]
  },
  {
   "cell_type": "markdown",
   "id": "91523bf4",
   "metadata": {},
   "source": [
    "### Pulling all three DataSets\n",
    "<p>Renamed all data sets and saved their csv's:</p>\n",
    "<li>dataset1: World CSV</li>\n",
    "<li>dataset2: Euro10 CSV</li>\n",
    "<li>dataset3: EuroAll CSV</li>"
   ]
  },
  {
   "cell_type": "code",
   "execution_count": 2,
   "id": "d6933e5a",
   "metadata": {},
   "outputs": [],
   "source": [
    "ds1 = pd.read_csv('ADmergeVOM.csv')"
   ]
  },
  {
   "cell_type": "code",
   "execution_count": 3,
   "id": "9af1c931",
   "metadata": {},
   "outputs": [
    {
     "data": {
      "text/html": [
       "<div>\n",
       "<style scoped>\n",
       "    .dataframe tbody tr th:only-of-type {\n",
       "        vertical-align: middle;\n",
       "    }\n",
       "\n",
       "    .dataframe tbody tr th {\n",
       "        vertical-align: top;\n",
       "    }\n",
       "\n",
       "    .dataframe thead th {\n",
       "        text-align: right;\n",
       "    }\n",
       "</style>\n",
       "<table border=\"1\" class=\"dataframe\">\n",
       "  <thead>\n",
       "    <tr style=\"text-align: right;\">\n",
       "      <th></th>\n",
       "      <th>Unnamed: 0</th>\n",
       "      <th>Entity</th>\n",
       "      <th>Year</th>\n",
       "      <th>Vegetable Oil</th>\n",
       "      <th>Deaths</th>\n",
       "    </tr>\n",
       "  </thead>\n",
       "  <tbody>\n",
       "    <tr>\n",
       "      <th>0</th>\n",
       "      <td>0</td>\n",
       "      <td>Afghanistan</td>\n",
       "      <td>2007</td>\n",
       "      <td>3.48</td>\n",
       "      <td>707.188774</td>\n",
       "    </tr>\n",
       "    <tr>\n",
       "      <th>1</th>\n",
       "      <td>1</td>\n",
       "      <td>Albania</td>\n",
       "      <td>2007</td>\n",
       "      <td>7.00</td>\n",
       "      <td>339.928986</td>\n",
       "    </tr>\n",
       "    <tr>\n",
       "      <th>2</th>\n",
       "      <td>2</td>\n",
       "      <td>Algeria</td>\n",
       "      <td>2007</td>\n",
       "      <td>13.60</td>\n",
       "      <td>328.078554</td>\n",
       "    </tr>\n",
       "    <tr>\n",
       "      <th>3</th>\n",
       "      <td>3</td>\n",
       "      <td>Angola</td>\n",
       "      <td>2007</td>\n",
       "      <td>9.05</td>\n",
       "      <td>344.017796</td>\n",
       "    </tr>\n",
       "    <tr>\n",
       "      <th>4</th>\n",
       "      <td>4</td>\n",
       "      <td>Argentina</td>\n",
       "      <td>2007</td>\n",
       "      <td>14.60</td>\n",
       "      <td>220.586059</td>\n",
       "    </tr>\n",
       "  </tbody>\n",
       "</table>\n",
       "</div>"
      ],
      "text/plain": [
       "   Unnamed: 0       Entity  Year  Vegetable Oil      Deaths\n",
       "0           0  Afghanistan  2007           3.48  707.188774\n",
       "1           1      Albania  2007           7.00  339.928986\n",
       "2           2      Algeria  2007          13.60  328.078554\n",
       "3           3       Angola  2007           9.05  344.017796\n",
       "4           4    Argentina  2007          14.60  220.586059"
      ]
     },
     "execution_count": 3,
     "metadata": {},
     "output_type": "execute_result"
    }
   ],
   "source": [
    "ds1.head()"
   ]
  },
  {
   "cell_type": "code",
   "execution_count": 4,
   "id": "8b8a61cd",
   "metadata": {},
   "outputs": [],
   "source": [
    "ds1.to_csv('dataset1.csv')"
   ]
  },
  {
   "cell_type": "code",
   "execution_count": 5,
   "id": "5412c399",
   "metadata": {},
   "outputs": [],
   "source": [
    "ds2 = pd.read_csv('mergeEuro.csv')"
   ]
  },
  {
   "cell_type": "code",
   "execution_count": 6,
   "id": "39f6b920",
   "metadata": {},
   "outputs": [
    {
     "data": {
      "text/html": [
       "<div>\n",
       "<style scoped>\n",
       "    .dataframe tbody tr th:only-of-type {\n",
       "        vertical-align: middle;\n",
       "    }\n",
       "\n",
       "    .dataframe tbody tr th {\n",
       "        vertical-align: top;\n",
       "    }\n",
       "\n",
       "    .dataframe thead th {\n",
       "        text-align: right;\n",
       "    }\n",
       "</style>\n",
       "<table border=\"1\" class=\"dataframe\">\n",
       "  <thead>\n",
       "    <tr style=\"text-align: right;\">\n",
       "      <th></th>\n",
       "      <th>Unnamed: 0</th>\n",
       "      <th>Entity</th>\n",
       "      <th>Year</th>\n",
       "      <th>Vegetable Oil</th>\n",
       "      <th>Deaths</th>\n",
       "    </tr>\n",
       "  </thead>\n",
       "  <tbody>\n",
       "    <tr>\n",
       "      <th>0</th>\n",
       "      <td>0</td>\n",
       "      <td>France</td>\n",
       "      <td>2007</td>\n",
       "      <td>507.945205</td>\n",
       "      <td>112.366845</td>\n",
       "    </tr>\n",
       "    <tr>\n",
       "      <th>1</th>\n",
       "      <td>1</td>\n",
       "      <td>Germany</td>\n",
       "      <td>2007</td>\n",
       "      <td>451.232877</td>\n",
       "      <td>176.248974</td>\n",
       "    </tr>\n",
       "    <tr>\n",
       "      <th>2</th>\n",
       "      <td>2</td>\n",
       "      <td>Italy</td>\n",
       "      <td>2007</td>\n",
       "      <td>673.150685</td>\n",
       "      <td>141.709672</td>\n",
       "    </tr>\n",
       "    <tr>\n",
       "      <th>3</th>\n",
       "      <td>3</td>\n",
       "      <td>Netherlands</td>\n",
       "      <td>2007</td>\n",
       "      <td>389.589041</td>\n",
       "      <td>138.289634</td>\n",
       "    </tr>\n",
       "    <tr>\n",
       "      <th>4</th>\n",
       "      <td>4</td>\n",
       "      <td>Poland</td>\n",
       "      <td>2007</td>\n",
       "      <td>276.164384</td>\n",
       "      <td>302.017225</td>\n",
       "    </tr>\n",
       "  </tbody>\n",
       "</table>\n",
       "</div>"
      ],
      "text/plain": [
       "   Unnamed: 0       Entity  Year  Vegetable Oil      Deaths\n",
       "0           0       France  2007     507.945205  112.366845\n",
       "1           1      Germany  2007     451.232877  176.248974\n",
       "2           2        Italy  2007     673.150685  141.709672\n",
       "3           3  Netherlands  2007     389.589041  138.289634\n",
       "4           4       Poland  2007     276.164384  302.017225"
      ]
     },
     "execution_count": 6,
     "metadata": {},
     "output_type": "execute_result"
    }
   ],
   "source": [
    "ds2.head()"
   ]
  },
  {
   "cell_type": "code",
   "execution_count": 7,
   "id": "a308550a",
   "metadata": {},
   "outputs": [],
   "source": [
    "ds2.to_csv('dataset2.csv')"
   ]
  },
  {
   "cell_type": "code",
   "execution_count": 8,
   "id": "a84924e4",
   "metadata": {},
   "outputs": [],
   "source": [
    "ds3 =  pd.read_csv('EuroWVOMR.csv')"
   ]
  },
  {
   "cell_type": "code",
   "execution_count": 9,
   "id": "681e87b1",
   "metadata": {},
   "outputs": [
    {
     "data": {
      "text/html": [
       "<div>\n",
       "<style scoped>\n",
       "    .dataframe tbody tr th:only-of-type {\n",
       "        vertical-align: middle;\n",
       "    }\n",
       "\n",
       "    .dataframe tbody tr th {\n",
       "        vertical-align: top;\n",
       "    }\n",
       "\n",
       "    .dataframe thead th {\n",
       "        text-align: right;\n",
       "    }\n",
       "</style>\n",
       "<table border=\"1\" class=\"dataframe\">\n",
       "  <thead>\n",
       "    <tr style=\"text-align: right;\">\n",
       "      <th></th>\n",
       "      <th>Unnamed: 0</th>\n",
       "      <th>Entity</th>\n",
       "      <th>Year</th>\n",
       "      <th>Vegetable Oil</th>\n",
       "      <th>Deaths</th>\n",
       "    </tr>\n",
       "  </thead>\n",
       "  <tbody>\n",
       "    <tr>\n",
       "      <th>0</th>\n",
       "      <td>0</td>\n",
       "      <td>Albania</td>\n",
       "      <td>2007</td>\n",
       "      <td>172.602740</td>\n",
       "      <td>339.928986</td>\n",
       "    </tr>\n",
       "    <tr>\n",
       "      <th>1</th>\n",
       "      <td>1</td>\n",
       "      <td>Armenia</td>\n",
       "      <td>2007</td>\n",
       "      <td>182.465753</td>\n",
       "      <td>410.791211</td>\n",
       "    </tr>\n",
       "    <tr>\n",
       "      <th>2</th>\n",
       "      <td>2</td>\n",
       "      <td>Austria</td>\n",
       "      <td>2007</td>\n",
       "      <td>542.465753</td>\n",
       "      <td>182.027111</td>\n",
       "    </tr>\n",
       "    <tr>\n",
       "      <th>3</th>\n",
       "      <td>3</td>\n",
       "      <td>Azerbaijan</td>\n",
       "      <td>2007</td>\n",
       "      <td>71.506849</td>\n",
       "      <td>632.724097</td>\n",
       "    </tr>\n",
       "    <tr>\n",
       "      <th>4</th>\n",
       "      <td>4</td>\n",
       "      <td>Belarus</td>\n",
       "      <td>2007</td>\n",
       "      <td>387.123288</td>\n",
       "      <td>533.504417</td>\n",
       "    </tr>\n",
       "    <tr>\n",
       "      <th>...</th>\n",
       "      <td>...</td>\n",
       "      <td>...</td>\n",
       "      <td>...</td>\n",
       "      <td>...</td>\n",
       "      <td>...</td>\n",
       "    </tr>\n",
       "    <tr>\n",
       "      <th>200</th>\n",
       "      <td>200</td>\n",
       "      <td>Sweden</td>\n",
       "      <td>2011</td>\n",
       "      <td>416.712329</td>\n",
       "      <td>153.603971</td>\n",
       "    </tr>\n",
       "    <tr>\n",
       "      <th>201</th>\n",
       "      <td>201</td>\n",
       "      <td>Switzerland</td>\n",
       "      <td>2011</td>\n",
       "      <td>495.616438</td>\n",
       "      <td>114.813790</td>\n",
       "    </tr>\n",
       "    <tr>\n",
       "      <th>202</th>\n",
       "      <td>202</td>\n",
       "      <td>Turkey</td>\n",
       "      <td>2011</td>\n",
       "      <td>613.972603</td>\n",
       "      <td>184.849933</td>\n",
       "    </tr>\n",
       "    <tr>\n",
       "      <th>203</th>\n",
       "      <td>203</td>\n",
       "      <td>Ukraine</td>\n",
       "      <td>2011</td>\n",
       "      <td>315.616438</td>\n",
       "      <td>546.286540</td>\n",
       "    </tr>\n",
       "    <tr>\n",
       "      <th>204</th>\n",
       "      <td>204</td>\n",
       "      <td>United Kingdom</td>\n",
       "      <td>2011</td>\n",
       "      <td>431.506849</td>\n",
       "      <td>129.259572</td>\n",
       "    </tr>\n",
       "  </tbody>\n",
       "</table>\n",
       "<p>205 rows × 5 columns</p>\n",
       "</div>"
      ],
      "text/plain": [
       "     Unnamed: 0          Entity  Year  Vegetable Oil      Deaths\n",
       "0             0         Albania  2007     172.602740  339.928986\n",
       "1             1         Armenia  2007     182.465753  410.791211\n",
       "2             2         Austria  2007     542.465753  182.027111\n",
       "3             3      Azerbaijan  2007      71.506849  632.724097\n",
       "4             4         Belarus  2007     387.123288  533.504417\n",
       "..          ...             ...   ...            ...         ...\n",
       "200         200          Sweden  2011     416.712329  153.603971\n",
       "201         201     Switzerland  2011     495.616438  114.813790\n",
       "202         202          Turkey  2011     613.972603  184.849933\n",
       "203         203         Ukraine  2011     315.616438  546.286540\n",
       "204         204  United Kingdom  2011     431.506849  129.259572\n",
       "\n",
       "[205 rows x 5 columns]"
      ]
     },
     "execution_count": 9,
     "metadata": {},
     "output_type": "execute_result"
    }
   ],
   "source": [
    "ds3"
   ]
  },
  {
   "cell_type": "code",
   "execution_count": 10,
   "id": "7cc06584",
   "metadata": {},
   "outputs": [],
   "source": [
    "ds3.to_csv('dataset3.csv')"
   ]
  },
  {
   "cell_type": "markdown",
   "id": "7debecab",
   "metadata": {},
   "source": [
    "### Filtering outliers\n",
    "###### Dataset1"
   ]
  },
  {
   "cell_type": "code",
   "execution_count": 11,
   "id": "d4b62a27",
   "metadata": {},
   "outputs": [
    {
     "data": {
      "text/plain": [
       "740"
      ]
     },
     "execution_count": 11,
     "metadata": {},
     "output_type": "execute_result"
    }
   ],
   "source": [
    "#VO\n",
    "len(ds1[['Vegetable Oil','Deaths']])"
   ]
  },
  {
   "cell_type": "code",
   "execution_count": 12,
   "id": "f349fd6b",
   "metadata": {},
   "outputs": [],
   "source": [
    "ds1['Vegetable Oil'] *= 1000"
   ]
  },
  {
   "cell_type": "code",
   "execution_count": 13,
   "id": "40f7c724",
   "metadata": {},
   "outputs": [],
   "source": [
    "ds1['Vegetable Oil'] /= 365"
   ]
  },
  {
   "cell_type": "code",
   "execution_count": 14,
   "id": "ab6c8cfd",
   "metadata": {},
   "outputs": [],
   "source": [
    "ds1['Vegetable Oil'] *= 9"
   ]
  },
  {
   "cell_type": "code",
   "execution_count": 15,
   "id": "5f0b7890",
   "metadata": {},
   "outputs": [
    {
     "data": {
      "text/plain": [
       "559.9726027397259"
      ]
     },
     "execution_count": 15,
     "metadata": {},
     "output_type": "execute_result"
    }
   ],
   "source": [
    "max_threshold = ds1['Vegetable Oil'].quantile(0.95)\n",
    "max_threshold"
   ]
  },
  {
   "cell_type": "code",
   "execution_count": 16,
   "id": "445ca7f4",
   "metadata": {},
   "outputs": [
    {
     "data": {
      "text/plain": [
       "71.97534246575343"
      ]
     },
     "execution_count": 16,
     "metadata": {},
     "output_type": "execute_result"
    }
   ],
   "source": [
    "min_threshold = ds1['Vegetable Oil'].quantile(0.05)\n",
    "min_threshold"
   ]
  },
  {
   "cell_type": "code",
   "execution_count": 17,
   "id": "b9588934",
   "metadata": {},
   "outputs": [],
   "source": [
    "ds1 = ds1[(ds1['Vegetable Oil']<max_threshold) & (ds1['Vegetable Oil']>min_threshold)]"
   ]
  },
  {
   "cell_type": "code",
   "execution_count": 18,
   "id": "a9bff23d",
   "metadata": {},
   "outputs": [
    {
     "data": {
      "text/plain": [
       "544.595158512821"
      ]
     },
     "execution_count": 18,
     "metadata": {},
     "output_type": "execute_result"
    }
   ],
   "source": [
    "#MR\n",
    "max_threshold = ds1['Deaths'].quantile(0.95)\n",
    "max_threshold"
   ]
  },
  {
   "cell_type": "code",
   "execution_count": 19,
   "id": "f8f40aa2",
   "metadata": {},
   "outputs": [
    {
     "data": {
      "text/plain": [
       "125.31255406465945"
      ]
     },
     "execution_count": 19,
     "metadata": {},
     "output_type": "execute_result"
    }
   ],
   "source": [
    "min_threshold = ds1['Deaths'].quantile(0.05)\n",
    "min_threshold"
   ]
  },
  {
   "cell_type": "code",
   "execution_count": 20,
   "id": "347cf820",
   "metadata": {},
   "outputs": [],
   "source": [
    "ds1 = ds1[(ds1['Deaths']<max_threshold) & (ds1['Deaths']>min_threshold)]"
   ]
  },
  {
   "cell_type": "code",
   "execution_count": 21,
   "id": "1cad36ef",
   "metadata": {},
   "outputs": [
    {
     "data": {
      "text/plain": [
       "598"
      ]
     },
     "execution_count": 21,
     "metadata": {},
     "output_type": "execute_result"
    }
   ],
   "source": [
    "len(ds1)"
   ]
  },
  {
   "cell_type": "code",
   "execution_count": 22,
   "id": "b82dc938",
   "metadata": {},
   "outputs": [],
   "source": [
    "ds1Trim = ds1.drop(columns=['Unnamed: 0'], inplace=True)"
   ]
  },
  {
   "cell_type": "code",
   "execution_count": 23,
   "id": "b60f69c0",
   "metadata": {},
   "outputs": [],
   "source": [
    "ds1Trim = ds1"
   ]
  },
  {
   "cell_type": "markdown",
   "id": "aa208400",
   "metadata": {},
   "source": [
    "###### Dataset2"
   ]
  },
  {
   "cell_type": "code",
   "execution_count": 24,
   "id": "173ee282",
   "metadata": {},
   "outputs": [
    {
     "data": {
      "text/plain": [
       "50"
      ]
     },
     "execution_count": 24,
     "metadata": {},
     "output_type": "execute_result"
    }
   ],
   "source": [
    "len(ds2[['Vegetable Oil','Deaths']])"
   ]
  },
  {
   "cell_type": "code",
   "execution_count": 25,
   "id": "422ae840",
   "metadata": {},
   "outputs": [
    {
     "data": {
      "text/plain": [
       "717.5342465753422"
      ]
     },
     "execution_count": 25,
     "metadata": {},
     "output_type": "execute_result"
    }
   ],
   "source": [
    "max_threshold = ds2['Vegetable Oil'].quantile(0.95)\n",
    "max_threshold"
   ]
  },
  {
   "cell_type": "code",
   "execution_count": 26,
   "id": "f3e33c72",
   "metadata": {},
   "outputs": [
    {
     "data": {
      "text/plain": [
       "295.64383561643837"
      ]
     },
     "execution_count": 26,
     "metadata": {},
     "output_type": "execute_result"
    }
   ],
   "source": [
    "min_threshold = ds2['Vegetable Oil'].quantile(0.05)\n",
    "min_threshold"
   ]
  },
  {
   "cell_type": "code",
   "execution_count": 27,
   "id": "49e61b24",
   "metadata": {},
   "outputs": [],
   "source": [
    "ds2 = ds2[(ds2['Vegetable Oil']<max_threshold) & (ds2['Vegetable Oil']>min_threshold)]"
   ]
  },
  {
   "cell_type": "code",
   "execution_count": 28,
   "id": "f15f98ea",
   "metadata": {},
   "outputs": [
    {
     "data": {
      "text/plain": [
       "565.144680208295"
      ]
     },
     "execution_count": 28,
     "metadata": {},
     "output_type": "execute_result"
    }
   ],
   "source": [
    "max_threshold = ds2['Deaths'].quantile(0.95)\n",
    "max_threshold"
   ]
  },
  {
   "cell_type": "code",
   "execution_count": 29,
   "id": "a2efd2e5",
   "metadata": {},
   "outputs": [
    {
     "data": {
      "text/plain": [
       "108.21761349857361"
      ]
     },
     "execution_count": 29,
     "metadata": {},
     "output_type": "execute_result"
    }
   ],
   "source": [
    "min_threshold = ds2['Deaths'].quantile(0.05)\n",
    "min_threshold"
   ]
  },
  {
   "cell_type": "code",
   "execution_count": 30,
   "id": "32ee7518",
   "metadata": {},
   "outputs": [],
   "source": [
    "ds2 = ds2[(ds2['Deaths']<max_threshold) & (ds2['Deaths']>min_threshold)]"
   ]
  },
  {
   "cell_type": "code",
   "execution_count": 31,
   "id": "94a50ebc",
   "metadata": {},
   "outputs": [
    {
     "data": {
      "text/plain": [
       "38"
      ]
     },
     "execution_count": 31,
     "metadata": {},
     "output_type": "execute_result"
    }
   ],
   "source": [
    "len(ds2)"
   ]
  },
  {
   "cell_type": "code",
   "execution_count": 32,
   "id": "2e042c36",
   "metadata": {},
   "outputs": [],
   "source": [
    "ds2Trim = ds2.drop(columns=['Unnamed: 0'], inplace=True)"
   ]
  },
  {
   "cell_type": "code",
   "execution_count": 33,
   "id": "c073eab7",
   "metadata": {},
   "outputs": [],
   "source": [
    "ds2Trim = ds2"
   ]
  },
  {
   "cell_type": "markdown",
   "id": "4cd9cf8f",
   "metadata": {},
   "source": [
    "###### Dataset3"
   ]
  },
  {
   "cell_type": "code",
   "execution_count": 34,
   "id": "73982578",
   "metadata": {},
   "outputs": [
    {
     "data": {
      "text/plain": [
       "205"
      ]
     },
     "execution_count": 34,
     "metadata": {},
     "output_type": "execute_result"
    }
   ],
   "source": [
    "len(ds3[['Vegetable Oil','Deaths']])"
   ]
  },
  {
   "cell_type": "code",
   "execution_count": 35,
   "id": "474b172e",
   "metadata": {},
   "outputs": [
    {
     "data": {
      "text/plain": [
       "657.8630136986301"
      ]
     },
     "execution_count": 35,
     "metadata": {},
     "output_type": "execute_result"
    }
   ],
   "source": [
    "max_threshold = ds3['Vegetable Oil'].quantile(0.95)\n",
    "max_threshold"
   ]
  },
  {
   "cell_type": "code",
   "execution_count": 36,
   "id": "da9f771d",
   "metadata": {},
   "outputs": [
    {
     "data": {
      "text/plain": [
       "152.87671232876713"
      ]
     },
     "execution_count": 36,
     "metadata": {},
     "output_type": "execute_result"
    }
   ],
   "source": [
    "min_threshold = ds3['Vegetable Oil'].quantile(0.05)\n",
    "min_threshold"
   ]
  },
  {
   "cell_type": "code",
   "execution_count": 37,
   "id": "fb9aba2d",
   "metadata": {},
   "outputs": [],
   "source": [
    "ds3 = ds3[(ds3['Vegetable Oil']<max_threshold) & (ds3['Vegetable Oil']>min_threshold)]"
   ]
  },
  {
   "cell_type": "code",
   "execution_count": 38,
   "id": "692b0633",
   "metadata": {},
   "outputs": [
    {
     "data": {
      "text/plain": [
       "536.4335539107747"
      ]
     },
     "execution_count": 38,
     "metadata": {},
     "output_type": "execute_result"
    }
   ],
   "source": [
    "#MR\n",
    "max_threshold = ds3['Deaths'].quantile(0.95)\n",
    "max_threshold"
   ]
  },
  {
   "cell_type": "code",
   "execution_count": 39,
   "id": "ca8ce303",
   "metadata": {},
   "outputs": [
    {
     "data": {
      "text/plain": [
       "129.20907594078224"
      ]
     },
     "execution_count": 39,
     "metadata": {},
     "output_type": "execute_result"
    }
   ],
   "source": [
    "min_threshold = ds3['Deaths'].quantile(0.05)\n",
    "min_threshold"
   ]
  },
  {
   "cell_type": "code",
   "execution_count": 40,
   "id": "f84fcacb",
   "metadata": {},
   "outputs": [],
   "source": [
    "ds3 = ds3[(ds3['Deaths']<max_threshold) & (ds3['Deaths']>min_threshold)]"
   ]
  },
  {
   "cell_type": "code",
   "execution_count": 41,
   "id": "37abaf05",
   "metadata": {},
   "outputs": [
    {
     "data": {
      "text/plain": [
       "162"
      ]
     },
     "execution_count": 41,
     "metadata": {},
     "output_type": "execute_result"
    }
   ],
   "source": [
    "len(ds3)"
   ]
  },
  {
   "cell_type": "code",
   "execution_count": 42,
   "id": "0d7d4833",
   "metadata": {},
   "outputs": [],
   "source": [
    "ds3Trim = ds3.drop(columns=['Unnamed: 0'], inplace=True)"
   ]
  },
  {
   "cell_type": "code",
   "execution_count": 43,
   "id": "ae6c723c",
   "metadata": {},
   "outputs": [],
   "source": [
    "ds3Trim = ds3"
   ]
  },
  {
   "cell_type": "markdown",
   "id": "253fabfa",
   "metadata": {},
   "source": [
    "### Saving all tables to CSV"
   ]
  },
  {
   "cell_type": "code",
   "execution_count": 44,
   "id": "b5feaa5d",
   "metadata": {},
   "outputs": [],
   "source": [
    "ds1Trim.to_csv('ds1Trim.csv')"
   ]
  },
  {
   "cell_type": "code",
   "execution_count": 45,
   "id": "8de26539",
   "metadata": {},
   "outputs": [],
   "source": [
    "ds2Trim.to_csv('ds2Trim.csv')"
   ]
  },
  {
   "cell_type": "code",
   "execution_count": 46,
   "id": "b750eafd",
   "metadata": {},
   "outputs": [],
   "source": [
    "ds3Trim.to_csv('ds3Trim.csv')"
   ]
  },
  {
   "cell_type": "markdown",
   "id": "bf2a5c89",
   "metadata": {},
   "source": [
    "### Plotting just in case"
   ]
  },
  {
   "cell_type": "code",
   "execution_count": 47,
   "id": "4ca23f1f",
   "metadata": {},
   "outputs": [
    {
     "data": {
      "text/plain": [
       "<matplotlib.collections.PathCollection at 0x1cf158a7d30>"
      ]
     },
     "execution_count": 47,
     "metadata": {},
     "output_type": "execute_result"
    },
    {
     "data": {
      "image/png": "[encoded data removed]",
      "text/plain": [
       "<Figure size 432x288 with 1 Axes>"
      ]
     },
     "metadata": {
      "needs_background": "light"
     },
     "output_type": "display_data"
    }
   ],
   "source": [
    "plt.title('Dataset 1')\n",
    "plt.xlabel('Deaths due to CAD per 100,000')\n",
    "plt.ylabel('Vegetable Oil Consumption in kcal')\n",
    "plt.scatter(ds1Trim['Vegetable Oil'], ds1Trim['Deaths'])"
   ]
  },
  {
   "cell_type": "code",
   "execution_count": 48,
   "id": "31ff19cc",
   "metadata": {},
   "outputs": [
    {
     "data": {
      "text/plain": [
       "<matplotlib.collections.PathCollection at 0x1cf0ab72b80>"
      ]
     },
     "execution_count": 48,
     "metadata": {},
     "output_type": "execute_result"
    },
    {
     "data": {
      "image/png": "[encoded data removed]",
      "text/plain": [
       "<Figure size 432x288 with 1 Axes>"
      ]
     },
     "metadata": {
      "needs_background": "light"
     },
     "output_type": "display_data"
    }
   ],
   "source": [
    "plt.title('Dataset 2')\n",
    "plt.xlabel('Deaths due to CAD per 100,000')\n",
    "plt.ylabel('Vegetable Oil Consumption in kcal')\n",
    "plt.scatter(ds2Trim['Vegetable Oil'], ds2Trim['Deaths'])"
   ]
  },
  {
   "cell_type": "code",
   "execution_count": 49,
   "id": "9e48a0f5",
   "metadata": {},
   "outputs": [
    {
     "data": {
      "text/plain": [
       "<matplotlib.collections.PathCollection at 0x1cf0abbe550>"
      ]
     },
     "execution_count": 49,
     "metadata": {},
     "output_type": "execute_result"
    },
    {
     "data": {
      "image/png": "[encoded data removed]",
      "text/plain": [
       "<Figure size 432x288 with 1 Axes>"
      ]
     },
     "metadata": {
      "needs_background": "light"
     },
     "output_type": "display_data"
    }
   ],
   "source": [
    "plt.title('Dataset 3')\n",
    "plt.xlabel('Deaths due to CAD per 100,000')\n",
    "plt.ylabel('Vegetable Oil Consumption in kcal')\n",
    "plt.scatter(ds3Trim['Vegetable Oil'], ds3Trim['Deaths'])"
   ]
  },
  {
   "cell_type": "markdown",
   "id": "c77c1b04",
   "metadata": {},
   "source": [
    "### Pearsons Tables"
   ]
  },
  {
   "cell_type": "markdown",
   "id": "9dafbcb5",
   "metadata": {},
   "source": [
    "<p>Pearson Correlation varies between -1 and +1. If it is -1 there is a perfect negative lineair relationship, if it is 0 there is no lineair relationship and at +1 there is a perfect positive lineair relationship.\n",
    "\n",
    "A positive relation means that if one variable goes up, the other also goes up (for example number of ice cream sold versus temperature), a negative relation indicates if one goes down, the other goes up (for example number of winter jackets sold versus temperature).\n",
    "\n",
    "We can test if Pearson Correlation might be significantly different from 0 in the population. In the example the significance of this test is .000. This is the chance of finding a correlation coefficient of .880 or even higher in a sample, if in the population it would be 0 (no association). This is such a low chance, that we can say that in the population the correlation coefficient will be indeed different from zero, and conclude that there is a significant linear association between the two variables.\n",
    "\n",
    "To determine the strength we only look at the absolute value (which means to ignore any minus sign, so the absolute value of for example -0.4 is simply 0.4).\n",
    "\n",
    "Unfortunately there is no formal way to determine if 0.880 is high or low (although almost everyone would agree this is pretty high), and the rules of thumb floating around on the internet vary quite a lot, often depending on the field (e.g. biology, medicine, business, etc.). For example the same rule of thumb sizes from Rea and Parker (1992):</p>\n",
    "<table>\n",
    "  <tr>\n",
    "    <td>|r|</td>\n",
    "    <td>Strenght</td>\n",
    "  </tr>\n",
    "  <tr>\n",
    "      <td><p>0.00 < 0.10</p></td>\n",
    "    <td>Negligible</td>\n",
    "  </tr>\n",
    "     <tr>\n",
    "      <td><p>0.10 < 0.20</p></td>\n",
    "    <td>Weak</td>\n",
    "  </tr>\n",
    "     <tr>\n",
    "      <td><p>0.20 < 0.40</p></td>\n",
    "    <td>Moderate</td>\n",
    "  </tr>\n",
    "     <tr>\n",
    "      <td><p>0.40 < 0.60</p></td>\n",
    "    <td>Relatively strong</td>\n",
    "  </tr>\n",
    "     <tr>\n",
    "      <td><p>0.60 < 0.80</p></td>\n",
    "    <td>Strong</td>\n",
    "  </tr>\n",
    "         <tr>\n",
    "      <td><p>0.80 < 1.00</p></td>\n",
    "    <td>Very strong</td>\n",
    "  </tr>\n",
    "    \n",
    "</table>"
   ]
  },
  {
   "cell_type": "code",
   "execution_count": 50,
   "id": "5e453a6b",
   "metadata": {},
   "outputs": [
    {
     "data": {
      "text/html": [
       "<div>\n",
       "<style scoped>\n",
       "    .dataframe tbody tr th:only-of-type {\n",
       "        vertical-align: middle;\n",
       "    }\n",
       "\n",
       "    .dataframe tbody tr th {\n",
       "        vertical-align: top;\n",
       "    }\n",
       "\n",
       "    .dataframe thead th {\n",
       "        text-align: right;\n",
       "    }\n",
       "</style>\n",
       "<table border=\"1\" class=\"dataframe\">\n",
       "  <thead>\n",
       "    <tr style=\"text-align: right;\">\n",
       "      <th></th>\n",
       "      <th>Vegetable Oil</th>\n",
       "      <th>Deaths</th>\n",
       "    </tr>\n",
       "  </thead>\n",
       "  <tbody>\n",
       "    <tr>\n",
       "      <th>Vegetable Oil</th>\n",
       "      <td>1.000000</td>\n",
       "      <td>-0.163823</td>\n",
       "    </tr>\n",
       "    <tr>\n",
       "      <th>Deaths</th>\n",
       "      <td>-0.163823</td>\n",
       "      <td>1.000000</td>\n",
       "    </tr>\n",
       "  </tbody>\n",
       "</table>\n",
       "</div>"
      ],
      "text/plain": [
       "               Vegetable Oil    Deaths\n",
       "Vegetable Oil       1.000000 -0.163823\n",
       "Deaths             -0.163823  1.000000"
      ]
     },
     "execution_count": 50,
     "metadata": {},
     "output_type": "execute_result"
    }
   ],
   "source": [
    "ds1Trim[['Vegetable Oil', 'Deaths']].corr()"
   ]
  },
  {
   "cell_type": "code",
   "execution_count": 58,
   "id": "76c3b8b5",
   "metadata": {},
   "outputs": [],
   "source": [
    "dfi.export(corr(ds1Trim['Vegetable Oil'], ds1Trim['Deaths'] ), 'ds1Pearsons.png')"
   ]
  },
  {
   "cell_type": "code",
   "execution_count": 52,
   "id": "092c0bdb",
   "metadata": {},
   "outputs": [
    {
     "data": {
      "text/html": [
       "<div>\n",
       "<style scoped>\n",
       "    .dataframe tbody tr th:only-of-type {\n",
       "        vertical-align: middle;\n",
       "    }\n",
       "\n",
       "    .dataframe tbody tr th {\n",
       "        vertical-align: top;\n",
       "    }\n",
       "\n",
       "    .dataframe thead th {\n",
       "        text-align: right;\n",
       "    }\n",
       "</style>\n",
       "<table border=\"1\" class=\"dataframe\">\n",
       "  <thead>\n",
       "    <tr style=\"text-align: right;\">\n",
       "      <th></th>\n",
       "      <th>Vegetable Oil</th>\n",
       "      <th>Deaths</th>\n",
       "    </tr>\n",
       "  </thead>\n",
       "  <tbody>\n",
       "    <tr>\n",
       "      <th>Vegetable Oil</th>\n",
       "      <td>1.000000</td>\n",
       "      <td>-0.417375</td>\n",
       "    </tr>\n",
       "    <tr>\n",
       "      <th>Deaths</th>\n",
       "      <td>-0.417375</td>\n",
       "      <td>1.000000</td>\n",
       "    </tr>\n",
       "  </tbody>\n",
       "</table>\n",
       "</div>"
      ],
      "text/plain": [
       "               Vegetable Oil    Deaths\n",
       "Vegetable Oil       1.000000 -0.417375\n",
       "Deaths             -0.417375  1.000000"
      ]
     },
     "execution_count": 52,
     "metadata": {},
     "output_type": "execute_result"
    }
   ],
   "source": [
    "ds2Trim[['Vegetable Oil', 'Deaths']].corr()"
   ]
  },
  {
   "cell_type": "code",
   "execution_count": 57,
   "id": "b0584e6e",
   "metadata": {},
   "outputs": [],
   "source": [
    "dfi.export(corr(ds2Trim['Vegetable Oil'], ds2Trim['Deaths'] ), 'ds2Pearsons.png')"
   ]
  },
  {
   "cell_type": "code",
   "execution_count": 54,
   "id": "060a526d",
   "metadata": {},
   "outputs": [
    {
     "data": {
      "text/html": [
       "<div>\n",
       "<style scoped>\n",
       "    .dataframe tbody tr th:only-of-type {\n",
       "        vertical-align: middle;\n",
       "    }\n",
       "\n",
       "    .dataframe tbody tr th {\n",
       "        vertical-align: top;\n",
       "    }\n",
       "\n",
       "    .dataframe thead th {\n",
       "        text-align: right;\n",
       "    }\n",
       "</style>\n",
       "<table border=\"1\" class=\"dataframe\">\n",
       "  <thead>\n",
       "    <tr style=\"text-align: right;\">\n",
       "      <th></th>\n",
       "      <th>Vegetable Oil</th>\n",
       "      <th>Deaths</th>\n",
       "    </tr>\n",
       "  </thead>\n",
       "  <tbody>\n",
       "    <tr>\n",
       "      <th>Vegetable Oil</th>\n",
       "      <td>1.000000</td>\n",
       "      <td>-0.438487</td>\n",
       "    </tr>\n",
       "    <tr>\n",
       "      <th>Deaths</th>\n",
       "      <td>-0.438487</td>\n",
       "      <td>1.000000</td>\n",
       "    </tr>\n",
       "  </tbody>\n",
       "</table>\n",
       "</div>"
      ],
      "text/plain": [
       "               Vegetable Oil    Deaths\n",
       "Vegetable Oil       1.000000 -0.438487\n",
       "Deaths             -0.438487  1.000000"
      ]
     },
     "execution_count": 54,
     "metadata": {},
     "output_type": "execute_result"
    }
   ],
   "source": [
    "ds3Trim[['Vegetable Oil', 'Deaths']].corr()"
   ]
  },
  {
   "cell_type": "code",
   "execution_count": 56,
   "id": "ffe5182e",
   "metadata": {},
   "outputs": [],
   "source": [
    "dfi.export(corr(ds3Trim['Vegetable Oil'], ds3Trim['Deaths'] ), 'ds3Pearsons.png')"
   ]
  }
 ],
 "metadata": {
  "kernelspec": {
   "display_name": "Python 3",
   "language": "python",
   "name": "python3"
  },
  "language_info": {
   "codemirror_mode": {
    "name": "ipython",
    "version": 3
   },
   "file_extension": ".py",
   "mimetype": "text/x-python",
   "name": "python",
   "nbconvert_exporter": "python",
   "pygments_lexer": "ipython3",
   "version": "3.8.8"
  }
 },
 "nbformat": 4,
 "nbformat_minor": 5
}
