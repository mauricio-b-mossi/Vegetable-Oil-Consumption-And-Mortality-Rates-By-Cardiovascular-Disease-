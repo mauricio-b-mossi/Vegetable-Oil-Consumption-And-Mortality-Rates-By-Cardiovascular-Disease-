{
 "cells": [
  {
   "cell_type": "code",
   "execution_count": 1,
   "id": "19aee64e",
   "metadata": {},
   "outputs": [],
   "source": [
    "import pandas as pd\n",
    "import matplotlib.pyplot as plt\n",
    "import dataframe_image as dfi"
   ]
  },
  {
   "cell_type": "code",
   "execution_count": 5,
   "id": "62290104",
   "metadata": {},
   "outputs": [],
   "source": [
    "df = pd.read_csv('formattedHealthCareData.csv')"
   ]
  },
  {
   "cell_type": "code",
   "execution_count": 23,
   "id": "645d567c",
   "metadata": {},
   "outputs": [],
   "source": [
    "merge = pd.read_csv('ADmergeVOM.csv')"
   ]
  },
  {
   "cell_type": "code",
   "execution_count": 46,
   "id": "89c40c55",
   "metadata": {},
   "outputs": [],
   "source": [
    "mergeEuro = pd.read_csv('mergeEuro.csv')"
   ]
  },
  {
   "cell_type": "markdown",
   "id": "d370a1b4",
   "metadata": {},
   "source": [
    "# Encompass more European Countries"
   ]
  },
  {
   "cell_type": "code",
   "execution_count": 3,
   "id": "7db2463b",
   "metadata": {},
   "outputs": [],
   "source": [
    "european_countries_list = ['Albania',\n",
    "'Andorra',\n",
    "'Armenia',\n",
    "'Austria',\n",
    "'Azerbaijan',\n",
    "'Belarus',\n",
    "'Belgium',\n",
    "'Bosnia and Herzegovina',\n",
    "'Bulgaria',\n",
    "'Croatia',\n",
    "'Cyprus',\n",
    "'Czech Republic',\n",
    "'Denmark',\n",
    "'Estonia',\n",
    "'Finland',\n",
    "'France',\n",
    "'Georgia',\n",
    "'Germany',\n",
    "'Greece',\n",
    "'Hungary',\n",
    "'Iceland',\n",
    "'Ireland',\n",
    "'Italy',\n",
    "'Kosovo',\n",
    "'Latvia',\n",
    "'Liechtenstein',\n",
    "'Lithuania',\n",
    "'Luxembourg',\n",
    "'Macedonia',\n",
    "'Malta',\n",
    "'Moldova',\n",
    "'Monaco',\n",
    "'Montenegro',\n",
    "'The Netherlands',\n",
    "'Norway',\n",
    "'Poland',\n",
    "'Portugal',\n",
    "'Romania',\n",
    "'Russia',\n",
    "'San Marino',\n",
    "'Serbia',\n",
    "'Slovakia',\n",
    "'Slovenia',\n",
    "'Spain',\n",
    "'Sweden',\n",
    "'Switzerland',\n",
    "'Turkey',\n",
    "'Ukraine',\n",
    "'United Kingdom',\n",
    "'Vatican City']"
   ]
  },
  {
   "cell_type": "code",
   "execution_count": 12,
   "id": "70c5acc2",
   "metadata": {},
   "outputs": [],
   "source": [
    "hci = df.drop(df.columns.difference(['Country','Health Care Index']), axis=1)"
   ]
  },
  {
   "cell_type": "code",
   "execution_count": 15,
   "id": "7a5033f6",
   "metadata": {},
   "outputs": [],
   "source": [
    "eurohci = hci[hci.loc[:,'Country'].isin(european_countries_list)]"
   ]
  },
  {
   "cell_type": "code",
   "execution_count": 16,
   "id": "d9143ce1",
   "metadata": {},
   "outputs": [
    {
     "data": {
      "text/plain": [
       "37"
      ]
     },
     "execution_count": 16,
     "metadata": {},
     "output_type": "execute_result"
    }
   ],
   "source": [
    "len(eurohci)"
   ]
  },
  {
   "cell_type": "code",
   "execution_count": 72,
   "id": "bc3b7438",
   "metadata": {},
   "outputs": [],
   "source": [
    "names = [e for e in eurohci['Country']]\n",
    "    "
   ]
  },
  {
   "cell_type": "code",
   "execution_count": 73,
   "id": "7f602d7f",
   "metadata": {},
   "outputs": [
    {
     "data": {
      "text/plain": [
       "['Denmark',\n",
       " 'Austria',\n",
       " 'France',\n",
       " 'Spain',\n",
       " 'Belgium',\n",
       " 'United Kingdom',\n",
       " 'Finland',\n",
       " 'Czech Republic',\n",
       " 'Norway',\n",
       " 'Germany',\n",
       " 'Switzerland',\n",
       " 'Portugal',\n",
       " 'Greece',\n",
       " 'Sweden',\n",
       " 'Lithuania',\n",
       " 'Estonia',\n",
       " 'Italy',\n",
       " 'Iceland',\n",
       " 'Croatia',\n",
       " 'Slovenia',\n",
       " 'Latvia',\n",
       " 'Hungary',\n",
       " 'Poland',\n",
       " 'Slovakia',\n",
       " 'Belarus',\n",
       " 'Russia',\n",
       " 'Macedonia',\n",
       " 'Turkey',\n",
       " 'Bulgaria',\n",
       " 'Romania',\n",
       " 'Albania',\n",
       " 'Cyprus',\n",
       " 'Serbia',\n",
       " 'Georgia',\n",
       " 'Ireland',\n",
       " 'Ukraine',\n",
       " 'Azerbaijan']"
      ]
     },
     "execution_count": 73,
     "metadata": {},
     "output_type": "execute_result"
    }
   ],
   "source": [
    "names"
   ]
  },
  {
   "cell_type": "code",
   "execution_count": 18,
   "id": "f0f992d5",
   "metadata": {},
   "outputs": [
    {
     "data": {
      "text/plain": [
       "45.8945945945946"
      ]
     },
     "execution_count": 18,
     "metadata": {},
     "output_type": "execute_result"
    }
   ],
   "source": [
    "eurohci['Health Care Index'].mean()"
   ]
  },
  {
   "cell_type": "code",
   "execution_count": 22,
   "id": "6631fc6e",
   "metadata": {},
   "outputs": [],
   "source": [
    "above50percentile = eurohci[eurohci.loc[:, 'Health Care Index'] >= 41.63]"
   ]
  },
  {
   "cell_type": "markdown",
   "id": "c5177906",
   "metadata": {},
   "source": [
    "### Filtering new Datasets"
   ]
  },
  {
   "cell_type": "code",
   "execution_count": 26,
   "id": "dcf5567a",
   "metadata": {},
   "outputs": [],
   "source": [
    "merge.drop(columns=['Unnamed: 0'], inplace=True)"
   ]
  },
  {
   "cell_type": "code",
   "execution_count": 31,
   "id": "2494a728",
   "metadata": {},
   "outputs": [],
   "source": [
    "euro = merge[merge.loc[:, 'Entity'].isin(european_countries_list)]"
   ]
  },
  {
   "cell_type": "code",
   "execution_count": 92,
   "id": "f9165ba0",
   "metadata": {},
   "outputs": [],
   "source": [
    "merge['Vegetable Oil'] *= 1000"
   ]
  },
  {
   "cell_type": "code",
   "execution_count": 93,
   "id": "1af8eeb1",
   "metadata": {},
   "outputs": [],
   "source": [
    "merge['Vegetable Oil'] /= 365"
   ]
  },
  {
   "cell_type": "code",
   "execution_count": 94,
   "id": "3ba2878c",
   "metadata": {},
   "outputs": [],
   "source": [
    "merge['Vegetable Oil'] *= 9"
   ]
  },
  {
   "cell_type": "code",
   "execution_count": 88,
   "id": "a66a2e53",
   "metadata": {},
   "outputs": [],
   "source": [
    "mergeEuro.drop(columns=['Unnamed: 0'], inplace = True)"
   ]
  },
  {
   "cell_type": "code",
   "execution_count": 89,
   "id": "4c48dea3",
   "metadata": {},
   "outputs": [],
   "source": [
    "mergeEuro.to_csv('mergeEuro.csv')"
   ]
  },
  {
   "cell_type": "code",
   "execution_count": 90,
   "id": "3d92b26b",
   "metadata": {},
   "outputs": [],
   "source": [
    "euro.to_csv('AmergeEuro.csv')"
   ]
  },
  {
   "cell_type": "code",
   "execution_count": 96,
   "id": "5857c52e",
   "metadata": {},
   "outputs": [],
   "source": [
    "merge.to_csv('AmergeWorld.csv')"
   ]
  },
  {
   "cell_type": "markdown",
   "id": "e36689ac",
   "metadata": {},
   "source": [
    "### Datasets 1 and 2"
   ]
  },
  {
   "cell_type": "code",
   "execution_count": 52,
   "id": "b6deaf35",
   "metadata": {},
   "outputs": [
    {
     "data": {
      "image/png": "[encoded data removed]",
      "text/plain": [
       "<Figure size 360x360 with 1 Axes>"
      ]
     },
     "metadata": {
      "needs_background": "light"
     },
     "output_type": "display_data"
    }
   ],
   "source": [
    "plt.figure(figsize=(5,5))\n",
    "plt.title('Dataset Mortality by CAD Comparison')\n",
    "plt.ylabel('Mortality by CAD per 100,000 people')\n",
    "labels = ['Dataset 1', 'Dataset 2']\n",
    "plt.boxplot([merge['Deaths'], mergeEuro['Deaths']], labels=labels)\n",
    "plt.savefig('Box&WhiskersMortality.png', dpi=200, bbox_inches='tight')"
   ]
  },
  {
   "cell_type": "code",
   "execution_count": 101,
   "id": "1316bf72",
   "metadata": {},
   "outputs": [
    {
     "data": {
      "image/png": "[encoded data removed]",
      "text/plain": [
       "<Figure size 360x360 with 1 Axes>"
      ]
     },
     "metadata": {
      "needs_background": "light"
     },
     "output_type": "display_data"
    }
   ],
   "source": [
    "plt.figure(figsize=(5,5))\n",
    "plt.title('Dataset Vegetable Oil consumption')\n",
    "plt.ylabel('Vegetable Oil consumption in kcal per day')\n",
    "labels = ['Dataset 1', 'Dataset 2']\n",
    "plt.boxplot([merge['Vegetable Oil'], mergeEuro['Vegetable Oil']], labels=labels)\n",
    "plt.savefig('Box&WhiskersVegetableOil.png', dpi=200, bbox_inches='tight')"
   ]
  },
  {
   "cell_type": "markdown",
   "id": "ffed1c76",
   "metadata": {},
   "source": [
    "### Dataset 1, 2, and 3"
   ]
  },
  {
   "cell_type": "code",
   "execution_count": 98,
   "id": "06d39ee9",
   "metadata": {},
   "outputs": [
    {
     "data": {
      "image/png": "[encoded data removed]",
      "text/plain": [
       "<Figure size 360x360 with 1 Axes>"
      ]
     },
     "metadata": {
      "needs_background": "light"
     },
     "output_type": "display_data"
    }
   ],
   "source": [
    "plt.figure(figsize=(5,5))\n",
    "plt.title('Dataset Mortality by CAD Comparison')\n",
    "plt.ylabel('Mortality by CAD per 100,000 people')\n",
    "labels = ['Dataset 1', 'Dataset 2', 'Dataset 3']\n",
    "plt.boxplot([merge['Deaths'], mergeEuro['Deaths'], euro['Deaths']], labels=labels)\n",
    "plt.savefig('Box&WhiskersMortality1to3.png', dpi=200, bbox_inches='tight')"
   ]
  },
  {
   "cell_type": "code",
   "execution_count": 102,
   "id": "54be132a",
   "metadata": {},
   "outputs": [
    {
     "data": {
      "image/png": "[encoded data removed]",
      "text/plain": [
       "<Figure size 360x360 with 1 Axes>"
      ]
     },
     "metadata": {
      "needs_background": "light"
     },
     "output_type": "display_data"
    }
   ],
   "source": [
    "plt.figure(figsize=(5,5))\n",
    "plt.title('Dataset Vegetable Oil consumption')\n",
    "plt.ylabel('Vegetable Oil consumption in kcal per day')\n",
    "labels = ['Dataset 1', 'Dataset 2', 'Dataset 3']\n",
    "plt.boxplot([merge['Vegetable Oil'], mergeEuro['Vegetable Oil'], euro['Vegetable Oil']], labels=labels)\n",
    "plt.savefig('Box&WhiskersVegetableOil1to3.png', dpi=200, bbox_inches='tight')"
   ]
  },
  {
   "cell_type": "code",
   "execution_count": null,
   "id": "fd419c9c",
   "metadata": {},
   "outputs": [],
   "source": []
  }
 ],
 "metadata": {
  "kernelspec": {
   "display_name": "Python 3",
   "language": "python",
   "name": "python3"
  },
  "language_info": {
   "codemirror_mode": {
    "name": "ipython",
    "version": 3
   },
   "file_extension": ".py",
   "mimetype": "text/x-python",
   "name": "python",
   "nbconvert_exporter": "python",
   "pygments_lexer": "ipython3",
   "version": "3.8.8"
  }
 },
 "nbformat": 4,
 "nbformat_minor": 5
}
