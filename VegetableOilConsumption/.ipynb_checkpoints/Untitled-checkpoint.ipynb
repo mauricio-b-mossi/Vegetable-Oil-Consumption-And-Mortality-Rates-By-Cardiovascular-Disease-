{
 "cells": [
  {
   "cell_type": "code",
   "execution_count": 32,
   "id": "d6423cd8",
   "metadata": {},
   "outputs": [],
   "source": [
    "import pandas as pd\n",
    "import matplotlib.pyplot as plt"
   ]
  },
  {
   "cell_type": "markdown",
   "id": "beeaccce",
   "metadata": {},
   "source": [
    "### Converting Linoleic Acid Horizontaly"
   ]
  },
  {
   "cell_type": "code",
   "execution_count": 2,
   "id": "5e641f1c",
   "metadata": {},
   "outputs": [],
   "source": [
    "la = pd.read_excel('Fats and LA relation.xlsx')"
   ]
  },
  {
   "cell_type": "code",
   "execution_count": 4,
   "id": "f6655b91",
   "metadata": {},
   "outputs": [
    {
     "data": {
      "text/html": [
       "<div>\n",
       "<style scoped>\n",
       "    .dataframe tbody tr th:only-of-type {\n",
       "        vertical-align: middle;\n",
       "    }\n",
       "\n",
       "    .dataframe tbody tr th {\n",
       "        vertical-align: top;\n",
       "    }\n",
       "\n",
       "    .dataframe thead th {\n",
       "        text-align: right;\n",
       "    }\n",
       "</style>\n",
       "<table border=\"1\" class=\"dataframe\">\n",
       "  <thead>\n",
       "    <tr style=\"text-align: right;\">\n",
       "      <th></th>\n",
       "      <th>Fats</th>\n",
       "      <th>% Linoleic acid†</th>\n",
       "    </tr>\n",
       "  </thead>\n",
       "  <tbody>\n",
       "    <tr>\n",
       "      <th>0</th>\n",
       "      <td>Safflower oil</td>\n",
       "      <td>0.78</td>\n",
       "    </tr>\n",
       "    <tr>\n",
       "      <th>1</th>\n",
       "      <td>Grape seed oil</td>\n",
       "      <td>0.73</td>\n",
       "    </tr>\n",
       "    <tr>\n",
       "      <th>2</th>\n",
       "      <td>Poppyseed oil</td>\n",
       "      <td>0.70</td>\n",
       "    </tr>\n",
       "    <tr>\n",
       "      <th>3</th>\n",
       "      <td>Sunflower oil</td>\n",
       "      <td>0.68</td>\n",
       "    </tr>\n",
       "    <tr>\n",
       "      <th>4</th>\n",
       "      <td>Hemp oil</td>\n",
       "      <td>0.60</td>\n",
       "    </tr>\n",
       "  </tbody>\n",
       "</table>\n",
       "</div>"
      ],
      "text/plain": [
       "             Fats  % Linoleic acid†\n",
       "0   Safflower oil              0.78\n",
       "1  Grape seed oil              0.73\n",
       "2   Poppyseed oil              0.70\n",
       "3   Sunflower oil              0.68\n",
       "4        Hemp oil              0.60"
      ]
     },
     "execution_count": 4,
     "metadata": {},
     "output_type": "execute_result"
    }
   ],
   "source": [
    "la.head()"
   ]
  },
  {
   "cell_type": "code",
   "execution_count": 24,
   "id": "bcf6604e",
   "metadata": {},
   "outputs": [],
   "source": [
    "p1 = pd.pivot_table(data=la, columns=['Fats'], dropna=True )"
   ]
  },
  {
   "cell_type": "code",
   "execution_count": 31,
   "id": "781f71ad",
   "metadata": {},
   "outputs": [
    {
     "data": {
      "text/plain": [
       "Fats\n",
       "Butter            0.020\n",
       "Canola oil        0.210\n",
       "Cocoa butter      0.030\n",
       "Coconut oil       0.020\n",
       "Corn oil          0.590\n",
       "Cottonseed oil    0.540\n",
       "Egg yolk          0.160\n",
       "Grape seed oil    0.730\n",
       "Hemp oil          0.600\n",
       "Lard              0.100\n",
       "Linseed oil       0.150\n",
       "Macadamia oil     0.020\n",
       "Olive oil         0.100\n",
       "Palm oil          0.100\n",
       "Peanut oil        0.320\n",
       "Pistachio oil     0.327\n",
       "Poppyseed oil     0.700\n",
       "Rice bran oil     0.390\n",
       "Safflower oil     0.780\n",
       "Sesame oil        0.450\n",
       "Soybean oil       0.510\n",
       "Sunflower oil     0.680\n",
       "Walnut oil        0.510\n",
       "Wheat germ oil    0.550\n",
       "Name: % Linoleic acid†, dtype: float64"
      ]
     },
     "execution_count": 31,
     "metadata": {},
     "output_type": "execute_result"
    }
   ],
   "source": [
    "p1.iloc[0, :]"
   ]
  },
  {
   "cell_type": "code",
   "execution_count": 43,
   "id": "6cfb24d7",
   "metadata": {},
   "outputs": [],
   "source": [
    "df = p1.iloc[0,0:]"
   ]
  },
  {
   "cell_type": "code",
   "execution_count": 45,
   "id": "a58aebde",
   "metadata": {},
   "outputs": [],
   "source": [
    "table_columns = p1.columns.to_list()"
   ]
  },
  {
   "cell_type": "code",
   "execution_count": 47,
   "id": "c995f5a7",
   "metadata": {},
   "outputs": [],
   "source": [
    "table_index = p1.index.to_list()"
   ]
  },
  {
   "cell_type": "code",
   "execution_count": 49,
   "id": "c28d5faf",
   "metadata": {},
   "outputs": [
    {
     "ename": "TypeError",
     "evalue": "'list' object is not callable",
     "output_type": "error",
     "traceback": [
      "\u001b[1;31m---------------------------------------------------------------------------\u001b[0m",
      "\u001b[1;31mTypeError\u001b[0m                                 Traceback (most recent call last)",
      "\u001b[1;32m<ipython-input-49-f37436e3d978>\u001b[0m in \u001b[0;36m<module>\u001b[1;34m\u001b[0m\n\u001b[1;32m----> 1\u001b[1;33m \u001b[0mtable_index\u001b[0m\u001b[1;33m(\u001b[0m\u001b[1;33m)\u001b[0m\u001b[1;33m\u001b[0m\u001b[1;33m\u001b[0m\u001b[0m\n\u001b[0m",
      "\u001b[1;31mTypeError\u001b[0m: 'list' object is not callable"
     ]
    }
   ],
   "source": []
  },
  {
   "cell_type": "code",
   "execution_count": null,
   "id": "1e28e0a6",
   "metadata": {},
   "outputs": [],
   "source": []
  }
 ],
 "metadata": {
  "kernelspec": {
   "display_name": "Python 3",
   "language": "python",
   "name": "python3"
  },
  "language_info": {
   "codemirror_mode": {
    "name": "ipython",
    "version": 3
   },
   "file_extension": ".py",
   "mimetype": "text/x-python",
   "name": "python",
   "nbconvert_exporter": "python",
   "pygments_lexer": "ipython3",
   "version": "3.8.8"
  }
 },
 "nbformat": 4,
 "nbformat_minor": 5
}
