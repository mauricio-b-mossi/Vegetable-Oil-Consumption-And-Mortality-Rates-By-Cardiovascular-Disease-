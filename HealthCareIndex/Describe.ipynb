{
 "cells": [
  {
   "cell_type": "code",
   "execution_count": 2,
   "id": "3015f19c",
   "metadata": {},
   "outputs": [],
   "source": [
    "import pandas as pd"
   ]
  },
  {
   "cell_type": "code",
   "execution_count": 3,
   "id": "dcad5394",
   "metadata": {},
   "outputs": [],
   "source": [
    "import dataframe_image as dfi"
   ]
  },
  {
   "cell_type": "code",
   "execution_count": 4,
   "id": "1b4567f6",
   "metadata": {},
   "outputs": [],
   "source": [
    "df = pd.read_csv('formattedHealthCareData.csv')"
   ]
  },
  {
   "cell_type": "code",
   "execution_count": 6,
   "id": "6e867db4",
   "metadata": {},
   "outputs": [],
   "source": [
    "df.drop(['Unnamed: 0'], axis=1, inplace=True)"
   ]
  },
  {
   "cell_type": "code",
   "execution_count": 7,
   "id": "c0e507d4",
   "metadata": {},
   "outputs": [
    {
     "data": {
      "text/html": [
       "<div>\n",
       "<style scoped>\n",
       "    .dataframe tbody tr th:only-of-type {\n",
       "        vertical-align: middle;\n",
       "    }\n",
       "\n",
       "    .dataframe tbody tr th {\n",
       "        vertical-align: top;\n",
       "    }\n",
       "\n",
       "    .dataframe thead th {\n",
       "        text-align: right;\n",
       "    }\n",
       "</style>\n",
       "<table border=\"1\" class=\"dataframe\">\n",
       "  <thead>\n",
       "    <tr style=\"text-align: right;\">\n",
       "      <th></th>\n",
       "      <th>Country</th>\n",
       "      <th>Health Care Index</th>\n",
       "      <th>Infrastructure</th>\n",
       "      <th>Professionals</th>\n",
       "      <th>Cost</th>\n",
       "      <th>Medicine Availability</th>\n",
       "      <th>Government Readiness</th>\n",
       "    </tr>\n",
       "  </thead>\n",
       "  <tbody>\n",
       "    <tr>\n",
       "      <th>0</th>\n",
       "      <td>South Korea</td>\n",
       "      <td>78.72</td>\n",
       "      <td>87.16</td>\n",
       "      <td>14.23</td>\n",
       "      <td>83.59</td>\n",
       "      <td>82.30</td>\n",
       "      <td>87.89</td>\n",
       "    </tr>\n",
       "    <tr>\n",
       "      <th>1</th>\n",
       "      <td>Taiwan</td>\n",
       "      <td>77.70</td>\n",
       "      <td>79.05</td>\n",
       "      <td>13.06</td>\n",
       "      <td>78.39</td>\n",
       "      <td>78.99</td>\n",
       "      <td>65.09</td>\n",
       "    </tr>\n",
       "    <tr>\n",
       "      <th>2</th>\n",
       "      <td>Denmark</td>\n",
       "      <td>74.11</td>\n",
       "      <td>90.75</td>\n",
       "      <td>30.01</td>\n",
       "      <td>82.59</td>\n",
       "      <td>92.06</td>\n",
       "      <td>96.30</td>\n",
       "    </tr>\n",
       "    <tr>\n",
       "      <th>3</th>\n",
       "      <td>Austria</td>\n",
       "      <td>71.32</td>\n",
       "      <td>86.18</td>\n",
       "      <td>20.25</td>\n",
       "      <td>78.99</td>\n",
       "      <td>88.23</td>\n",
       "      <td>91.80</td>\n",
       "    </tr>\n",
       "    <tr>\n",
       "      <th>4</th>\n",
       "      <td>Japan</td>\n",
       "      <td>70.73</td>\n",
       "      <td>78.77</td>\n",
       "      <td>21.60</td>\n",
       "      <td>74.88</td>\n",
       "      <td>74.18</td>\n",
       "      <td>93.20</td>\n",
       "    </tr>\n",
       "  </tbody>\n",
       "</table>\n",
       "</div>"
      ],
      "text/plain": [
       "       Country  Health Care Index  Infrastructure  Professionals   Cost  \\\n",
       "0  South Korea              78.72           87.16          14.23  83.59   \n",
       "1       Taiwan              77.70           79.05          13.06  78.39   \n",
       "2      Denmark              74.11           90.75          30.01  82.59   \n",
       "3      Austria              71.32           86.18          20.25  78.99   \n",
       "4        Japan              70.73           78.77          21.60  74.88   \n",
       "\n",
       "   Medicine Availability  Government Readiness  \n",
       "0                  82.30                 87.89  \n",
       "1                  78.99                 65.09  \n",
       "2                  92.06                 96.30  \n",
       "3                  88.23                 91.80  \n",
       "4                  74.18                 93.20  "
      ]
     },
     "execution_count": 7,
     "metadata": {},
     "output_type": "execute_result"
    }
   ],
   "source": [
    "df.head()"
   ]
  },
  {
   "cell_type": "code",
   "execution_count": 9,
   "id": "a0d1f517",
   "metadata": {
    "scrolled": true
   },
   "outputs": [],
   "source": [
    "dfi.export(df.describe(), \"statstable.png\")"
   ]
  },
  {
   "cell_type": "code",
   "execution_count": 18,
   "id": "7c7fee16",
   "metadata": {},
   "outputs": [
    {
     "data": {
      "text/plain": [
       "89"
      ]
     },
     "execution_count": 18,
     "metadata": {},
     "output_type": "execute_result"
    }
   ],
   "source": [
    "len(df['Country'].unique())"
   ]
  },
  {
   "cell_type": "code",
   "execution_count": null,
   "id": "a642783b",
   "metadata": {},
   "outputs": [],
   "source": []
  }
 ],
 "metadata": {
  "kernelspec": {
   "display_name": "Python 3",
   "language": "python",
   "name": "python3"
  },
  "language_info": {
   "codemirror_mode": {
    "name": "ipython",
    "version": 3
   },
   "file_extension": ".py",
   "mimetype": "text/x-python",
   "name": "python",
   "nbconvert_exporter": "python",
   "pygments_lexer": "ipython3",
   "version": "3.8.8"
  }
 },
 "nbformat": 4,
 "nbformat_minor": 5
}
