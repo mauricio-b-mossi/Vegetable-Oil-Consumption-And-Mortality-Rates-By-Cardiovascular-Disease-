{
 "cells": [
  {
   "cell_type": "code",
   "execution_count": 49,
   "id": "6d430926",
   "metadata": {},
   "outputs": [],
   "source": [
    "import pandas as pd"
   ]
  },
  {
   "cell_type": "code",
   "execution_count": 36,
   "id": "9fd5bf43",
   "metadata": {},
   "outputs": [],
   "source": [
    "with open('Index.txt', 'r') as f:\n",
    "        arry = [line.replace('\\t', ',') for line in f]\n",
    "        clean = [line.replace(\"\\n\", '') for line in arry]"
   ]
  },
  {
   "cell_type": "code",
   "execution_count": 61,
   "id": "cc96a59c",
   "metadata": {},
   "outputs": [],
   "source": [
    "g = [item.split(',') for item in clean]"
   ]
  },
  {
   "cell_type": "code",
   "execution_count": 63,
   "id": "6c813543",
   "metadata": {},
   "outputs": [],
   "source": [
    "df = pd.DataFrame(g)"
   ]
  },
  {
   "cell_type": "code",
   "execution_count": 66,
   "id": "7e38ac72",
   "metadata": {},
   "outputs": [],
   "source": [
    "df.set_index(0, inplace=True)"
   ]
  },
  {
   "cell_type": "code",
   "execution_count": 75,
   "id": "fd4758d9",
   "metadata": {},
   "outputs": [],
   "source": [
    "df.rename(columns={'0': 'Ranking'}, inplace=True)"
   ]
  },
  {
   "cell_type": "code",
   "execution_count": 79,
   "id": "fbadbb2b",
   "metadata": {},
   "outputs": [
    {
     "data": {
      "text/plain": [
       "Int64Index([1, 2, 3, 4, 5, 6, 7], dtype='int64')"
      ]
     },
     "execution_count": 79,
     "metadata": {},
     "output_type": "execute_result"
    }
   ],
   "source": [
    "df.columns"
   ]
  },
  {
   "cell_type": "code",
   "execution_count": 82,
   "id": "6f99fcd7",
   "metadata": {},
   "outputs": [],
   "source": [
    "df.rename(columns={'hoi' : 'Country'}, inplace=True)"
   ]
  },
  {
   "cell_type": "code",
   "execution_count": 84,
   "id": "6af899cb",
   "metadata": {},
   "outputs": [],
   "source": [
    "df.rename(columns={2 : 'Infrastructure', 3: 'Professionals', 4 : 'Cost', 5 : 'Medicine Availability'}, inplace=True)"
   ]
  },
  {
   "cell_type": "code",
   "execution_count": 87,
   "id": "6e68429a",
   "metadata": {},
   "outputs": [],
   "source": [
    "df.rename(columns={'Infrastructure' : 'Health Care Index', 'Professionals' : 'Infrastructure', 'Professionals' : 'Cost'}, inplace=True)"
   ]
  },
  {
   "cell_type": "code",
   "execution_count": 90,
   "id": "21544256",
   "metadata": {},
   "outputs": [],
   "source": [
    "df.rename(columns={'Cost' : 'Infrastructure'}, inplace=True)"
   ]
  },
  {
   "cell_type": "code",
   "execution_count": 92,
   "id": "5c87a9b0",
   "metadata": {},
   "outputs": [],
   "source": [
    "df.rename(columns={6 : 'Medicine Availability', 7 : 'Government Readiness'}, inplace=True)"
   ]
  },
  {
   "cell_type": "code",
   "execution_count": 94,
   "id": "bd90e1fc",
   "metadata": {},
   "outputs": [],
   "source": [
    "df.to_csv('data.csv')"
   ]
  },
  {
   "cell_type": "code",
   "execution_count": null,
   "id": "aa81376a",
   "metadata": {},
   "outputs": [],
   "source": []
  }
 ],
 "metadata": {
  "kernelspec": {
   "display_name": "Python 3",
   "language": "python",
   "name": "python3"
  },
  "language_info": {
   "codemirror_mode": {
    "name": "ipython",
    "version": 3
   },
   "file_extension": ".py",
   "mimetype": "text/x-python",
   "name": "python",
   "nbconvert_exporter": "python",
   "pygments_lexer": "ipython3",
   "version": "3.8.8"
  }
 },
 "nbformat": 4,
 "nbformat_minor": 5
}
